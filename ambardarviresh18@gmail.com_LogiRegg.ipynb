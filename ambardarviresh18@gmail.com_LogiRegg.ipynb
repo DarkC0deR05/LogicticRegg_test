{
 "cells": [
  {
   "cell_type": "code",
   "execution_count": 88,
   "id": "3acd6aec",
   "metadata": {},
   "outputs": [],
   "source": [
    "import os\n",
    "import pandas as pd\n",
    "import numpy as np\n",
    "import matplotlib.pyplot as plt\n",
    "import seaborn as sns\n",
    "\n",
    "%matplotlib inline\n",
    "\n",
    "from sklearn.model_selection import train_test_split\n",
    "from scipy.stats import shapiro\n",
    "from sklearn.linear_model import LinearRegression\n",
    "\n",
    "import statsmodels.api as sm\n",
    "\n",
    "from statsmodels.stats.outliers_influence import variance_inflation_factor\n",
    "\n",
    "from sklearn.linear_model import LogisticRegression\n",
    "from sklearn import metrics"
   ]
  },
  {
   "cell_type": "code",
   "execution_count": 89,
   "id": "88abaa5d",
   "metadata": {},
   "outputs": [],
   "source": [
    "os.chdir('D:\\Imarticus\\ML')"
   ]
  },
  {
   "cell_type": "code",
   "execution_count": 90,
   "id": "21763245",
   "metadata": {},
   "outputs": [
    {
     "data": {
      "text/plain": [
       "['4kvideodownloader_4.20.1_x64_online.exe',\n",
       " 'ambardarviresh18@gmail.com_LinearRegg.ipynb',\n",
       " 'archive.zip',\n",
       " 'aw_fb_data.csv',\n",
       " 'cars_modified.csv',\n",
       " 'car_done.csv',\n",
       " 'Car_sales.csv',\n",
       " 'Chi-Sq Test.ipynb',\n",
       " 'Churn_Modelling.csv',\n",
       " 'cr.csv',\n",
       " 'data_for_weka_aw.csv',\n",
       " 'data_for_weka_fb.csv',\n",
       " 'dfeval.csv',\n",
       " 'dftrain.csv',\n",
       " 'Fish_dataset.csv',\n",
       " 'fitbit.csv',\n",
       " 'linerRegg (1).ipynb',\n",
       " 'linerRegg.ipynb',\n",
       " 'LoansData.csv',\n",
       " 'Loan_data (1).ipynb',\n",
       " 'loan_modified.csv',\n",
       " 'New Season.jpg',\n",
       " 'PGA20_ML_Notes.xlsx',\n",
       " 'prde_train1.xlsx',\n",
       " 'supermarket_sales - Sheet1.csv',\n",
       " 'Supunky gamer 0518.png',\n",
       " 'temp20220318-39649-1q8i4xq.png',\n",
       " 'temp20220318-39649-1q8i4xq.v3.jpg',\n",
       " 'Test_RiskScore.xlsx',\n",
       " 'tkf.mp4',\n",
       " 'trainprofile.xlsx',\n",
       " 'train_profile.xlsx',\n",
       " 'Train_RiskScore.csv',\n",
       " 'vehicles.csv',\n",
       " 'Viresh-sgd.ipynb',\n",
       " 'xAPI-Edu-Data.csv']"
      ]
     },
     "execution_count": 90,
     "metadata": {},
     "output_type": "execute_result"
    }
   ],
   "source": [
    "os.listdir()"
   ]
  },
  {
   "cell_type": "code",
   "execution_count": 91,
   "id": "82d3648d",
   "metadata": {},
   "outputs": [
    {
     "data": {
      "text/html": [
       "<div>\n",
       "<style scoped>\n",
       "    .dataframe tbody tr th:only-of-type {\n",
       "        vertical-align: middle;\n",
       "    }\n",
       "\n",
       "    .dataframe tbody tr th {\n",
       "        vertical-align: top;\n",
       "    }\n",
       "\n",
       "    .dataframe thead th {\n",
       "        text-align: right;\n",
       "    }\n",
       "</style>\n",
       "<table border=\"1\" class=\"dataframe\">\n",
       "  <thead>\n",
       "    <tr style=\"text-align: right;\">\n",
       "      <th></th>\n",
       "      <th>gender</th>\n",
       "      <th>NationalITy</th>\n",
       "      <th>PlaceofBirth</th>\n",
       "      <th>StageID</th>\n",
       "      <th>SectionID</th>\n",
       "      <th>Topic</th>\n",
       "      <th>Semester</th>\n",
       "      <th>Relation</th>\n",
       "      <th>raisedhands</th>\n",
       "      <th>VisITedResources</th>\n",
       "      <th>AnnouncementsView</th>\n",
       "      <th>Discussion</th>\n",
       "      <th>ParentAnsweringSurvey</th>\n",
       "      <th>ParentschoolSatisfaction</th>\n",
       "      <th>StudentAbsenceDays</th>\n",
       "      <th>Class</th>\n",
       "    </tr>\n",
       "  </thead>\n",
       "  <tbody>\n",
       "    <tr>\n",
       "      <th>0</th>\n",
       "      <td>M</td>\n",
       "      <td>KW</td>\n",
       "      <td>KuwaIT</td>\n",
       "      <td>lowerlevel</td>\n",
       "      <td>A</td>\n",
       "      <td>IT</td>\n",
       "      <td>F</td>\n",
       "      <td>Father</td>\n",
       "      <td>15</td>\n",
       "      <td>16</td>\n",
       "      <td>2</td>\n",
       "      <td>20</td>\n",
       "      <td>Yes</td>\n",
       "      <td>Good</td>\n",
       "      <td>Under-7</td>\n",
       "      <td>M</td>\n",
       "    </tr>\n",
       "    <tr>\n",
       "      <th>1</th>\n",
       "      <td>M</td>\n",
       "      <td>KW</td>\n",
       "      <td>KuwaIT</td>\n",
       "      <td>lowerlevel</td>\n",
       "      <td>A</td>\n",
       "      <td>IT</td>\n",
       "      <td>F</td>\n",
       "      <td>Father</td>\n",
       "      <td>20</td>\n",
       "      <td>20</td>\n",
       "      <td>3</td>\n",
       "      <td>25</td>\n",
       "      <td>Yes</td>\n",
       "      <td>Good</td>\n",
       "      <td>Under-7</td>\n",
       "      <td>M</td>\n",
       "    </tr>\n",
       "    <tr>\n",
       "      <th>2</th>\n",
       "      <td>M</td>\n",
       "      <td>KW</td>\n",
       "      <td>KuwaIT</td>\n",
       "      <td>lowerlevel</td>\n",
       "      <td>A</td>\n",
       "      <td>IT</td>\n",
       "      <td>F</td>\n",
       "      <td>Father</td>\n",
       "      <td>10</td>\n",
       "      <td>7</td>\n",
       "      <td>0</td>\n",
       "      <td>30</td>\n",
       "      <td>No</td>\n",
       "      <td>Bad</td>\n",
       "      <td>Above-7</td>\n",
       "      <td>L</td>\n",
       "    </tr>\n",
       "    <tr>\n",
       "      <th>3</th>\n",
       "      <td>M</td>\n",
       "      <td>KW</td>\n",
       "      <td>KuwaIT</td>\n",
       "      <td>lowerlevel</td>\n",
       "      <td>A</td>\n",
       "      <td>IT</td>\n",
       "      <td>F</td>\n",
       "      <td>Father</td>\n",
       "      <td>30</td>\n",
       "      <td>25</td>\n",
       "      <td>5</td>\n",
       "      <td>35</td>\n",
       "      <td>No</td>\n",
       "      <td>Bad</td>\n",
       "      <td>Above-7</td>\n",
       "      <td>L</td>\n",
       "    </tr>\n",
       "    <tr>\n",
       "      <th>4</th>\n",
       "      <td>M</td>\n",
       "      <td>KW</td>\n",
       "      <td>KuwaIT</td>\n",
       "      <td>lowerlevel</td>\n",
       "      <td>A</td>\n",
       "      <td>IT</td>\n",
       "      <td>F</td>\n",
       "      <td>Father</td>\n",
       "      <td>40</td>\n",
       "      <td>50</td>\n",
       "      <td>12</td>\n",
       "      <td>50</td>\n",
       "      <td>No</td>\n",
       "      <td>Bad</td>\n",
       "      <td>Above-7</td>\n",
       "      <td>M</td>\n",
       "    </tr>\n",
       "  </tbody>\n",
       "</table>\n",
       "</div>"
      ],
      "text/plain": [
       "  gender NationalITy PlaceofBirth     StageID SectionID Topic Semester  \\\n",
       "0      M          KW       KuwaIT  lowerlevel         A    IT        F   \n",
       "1      M          KW       KuwaIT  lowerlevel         A    IT        F   \n",
       "2      M          KW       KuwaIT  lowerlevel         A    IT        F   \n",
       "3      M          KW       KuwaIT  lowerlevel         A    IT        F   \n",
       "4      M          KW       KuwaIT  lowerlevel         A    IT        F   \n",
       "\n",
       "  Relation  raisedhands  VisITedResources  AnnouncementsView  Discussion  \\\n",
       "0   Father           15                16                  2          20   \n",
       "1   Father           20                20                  3          25   \n",
       "2   Father           10                 7                  0          30   \n",
       "3   Father           30                25                  5          35   \n",
       "4   Father           40                50                 12          50   \n",
       "\n",
       "  ParentAnsweringSurvey ParentschoolSatisfaction StudentAbsenceDays Class  \n",
       "0                   Yes                     Good            Under-7     M  \n",
       "1                   Yes                     Good            Under-7     M  \n",
       "2                    No                      Bad            Above-7     L  \n",
       "3                    No                      Bad            Above-7     L  \n",
       "4                    No                      Bad            Above-7     M  "
      ]
     },
     "execution_count": 91,
     "metadata": {},
     "output_type": "execute_result"
    }
   ],
   "source": [
    "schooldata = pd.read_csv('xAPI-Edu-Data.csv')\n",
    "schooldata.drop(axis=1 , inplace=True , columns='GradeID')\n",
    "schooldata.head()"
   ]
  },
  {
   "cell_type": "code",
   "execution_count": 92,
   "id": "a6792bb5",
   "metadata": {},
   "outputs": [
    {
     "data": {
      "text/plain": [
       "gender                      0\n",
       "NationalITy                 0\n",
       "PlaceofBirth                0\n",
       "StageID                     0\n",
       "SectionID                   0\n",
       "Topic                       0\n",
       "Semester                    0\n",
       "Relation                    0\n",
       "raisedhands                 0\n",
       "VisITedResources            0\n",
       "AnnouncementsView           0\n",
       "Discussion                  0\n",
       "ParentAnsweringSurvey       0\n",
       "ParentschoolSatisfaction    0\n",
       "StudentAbsenceDays          0\n",
       "Class                       0\n",
       "dtype: int64"
      ]
     },
     "execution_count": 92,
     "metadata": {},
     "output_type": "execute_result"
    }
   ],
   "source": [
    "schooldata.isnull().sum().sort_values(ascending=False)"
   ]
  },
  {
   "cell_type": "code",
   "execution_count": 93,
   "id": "1bb3a11a",
   "metadata": {},
   "outputs": [
    {
     "data": {
      "text/html": [
       "<div>\n",
       "<style scoped>\n",
       "    .dataframe tbody tr th:only-of-type {\n",
       "        vertical-align: middle;\n",
       "    }\n",
       "\n",
       "    .dataframe tbody tr th {\n",
       "        vertical-align: top;\n",
       "    }\n",
       "\n",
       "    .dataframe thead th {\n",
       "        text-align: right;\n",
       "    }\n",
       "</style>\n",
       "<table border=\"1\" class=\"dataframe\">\n",
       "  <thead>\n",
       "    <tr style=\"text-align: right;\">\n",
       "      <th></th>\n",
       "      <th>count</th>\n",
       "      <th>mean</th>\n",
       "      <th>std</th>\n",
       "      <th>min</th>\n",
       "      <th>1%</th>\n",
       "      <th>2%</th>\n",
       "      <th>3%</th>\n",
       "      <th>4%</th>\n",
       "      <th>5%</th>\n",
       "      <th>10%</th>\n",
       "      <th>...</th>\n",
       "      <th>50%</th>\n",
       "      <th>75%</th>\n",
       "      <th>85%</th>\n",
       "      <th>90%</th>\n",
       "      <th>95%</th>\n",
       "      <th>96%</th>\n",
       "      <th>97%</th>\n",
       "      <th>98%</th>\n",
       "      <th>99%</th>\n",
       "      <th>max</th>\n",
       "    </tr>\n",
       "  </thead>\n",
       "  <tbody>\n",
       "    <tr>\n",
       "      <th>raisedhands</th>\n",
       "      <td>480.0</td>\n",
       "      <td>46.775000</td>\n",
       "      <td>30.779223</td>\n",
       "      <td>0.0</td>\n",
       "      <td>0.0</td>\n",
       "      <td>1.00</td>\n",
       "      <td>2.00</td>\n",
       "      <td>3.00</td>\n",
       "      <td>4.95</td>\n",
       "      <td>9.0</td>\n",
       "      <td>...</td>\n",
       "      <td>50.0</td>\n",
       "      <td>75.0</td>\n",
       "      <td>80.0</td>\n",
       "      <td>87.0</td>\n",
       "      <td>90.0</td>\n",
       "      <td>92.0</td>\n",
       "      <td>95.0</td>\n",
       "      <td>97.42</td>\n",
       "      <td>100.00</td>\n",
       "      <td>100.0</td>\n",
       "    </tr>\n",
       "    <tr>\n",
       "      <th>VisITedResources</th>\n",
       "      <td>480.0</td>\n",
       "      <td>54.797917</td>\n",
       "      <td>33.080007</td>\n",
       "      <td>0.0</td>\n",
       "      <td>0.0</td>\n",
       "      <td>2.00</td>\n",
       "      <td>2.00</td>\n",
       "      <td>3.00</td>\n",
       "      <td>4.00</td>\n",
       "      <td>7.0</td>\n",
       "      <td>...</td>\n",
       "      <td>65.0</td>\n",
       "      <td>84.0</td>\n",
       "      <td>90.0</td>\n",
       "      <td>90.0</td>\n",
       "      <td>95.0</td>\n",
       "      <td>96.0</td>\n",
       "      <td>97.0</td>\n",
       "      <td>98.00</td>\n",
       "      <td>98.00</td>\n",
       "      <td>99.0</td>\n",
       "    </tr>\n",
       "    <tr>\n",
       "      <th>AnnouncementsView</th>\n",
       "      <td>480.0</td>\n",
       "      <td>37.918750</td>\n",
       "      <td>26.611244</td>\n",
       "      <td>0.0</td>\n",
       "      <td>0.0</td>\n",
       "      <td>0.58</td>\n",
       "      <td>1.37</td>\n",
       "      <td>2.00</td>\n",
       "      <td>2.00</td>\n",
       "      <td>5.0</td>\n",
       "      <td>...</td>\n",
       "      <td>33.0</td>\n",
       "      <td>58.0</td>\n",
       "      <td>73.0</td>\n",
       "      <td>79.1</td>\n",
       "      <td>83.0</td>\n",
       "      <td>85.0</td>\n",
       "      <td>86.0</td>\n",
       "      <td>89.00</td>\n",
       "      <td>93.42</td>\n",
       "      <td>98.0</td>\n",
       "    </tr>\n",
       "    <tr>\n",
       "      <th>Discussion</th>\n",
       "      <td>480.0</td>\n",
       "      <td>43.283333</td>\n",
       "      <td>27.637735</td>\n",
       "      <td>1.0</td>\n",
       "      <td>2.0</td>\n",
       "      <td>3.00</td>\n",
       "      <td>4.00</td>\n",
       "      <td>5.16</td>\n",
       "      <td>7.00</td>\n",
       "      <td>10.0</td>\n",
       "      <td>...</td>\n",
       "      <td>39.0</td>\n",
       "      <td>70.0</td>\n",
       "      <td>80.0</td>\n",
       "      <td>84.0</td>\n",
       "      <td>90.0</td>\n",
       "      <td>90.0</td>\n",
       "      <td>92.0</td>\n",
       "      <td>94.42</td>\n",
       "      <td>97.00</td>\n",
       "      <td>99.0</td>\n",
       "    </tr>\n",
       "  </tbody>\n",
       "</table>\n",
       "<p>4 rows × 22 columns</p>\n",
       "</div>"
      ],
      "text/plain": [
       "                   count       mean        std  min   1%    2%    3%    4%  \\\n",
       "raisedhands        480.0  46.775000  30.779223  0.0  0.0  1.00  2.00  3.00   \n",
       "VisITedResources   480.0  54.797917  33.080007  0.0  0.0  2.00  2.00  3.00   \n",
       "AnnouncementsView  480.0  37.918750  26.611244  0.0  0.0  0.58  1.37  2.00   \n",
       "Discussion         480.0  43.283333  27.637735  1.0  2.0  3.00  4.00  5.16   \n",
       "\n",
       "                     5%   10%  ...   50%   75%   85%   90%   95%   96%   97%  \\\n",
       "raisedhands        4.95   9.0  ...  50.0  75.0  80.0  87.0  90.0  92.0  95.0   \n",
       "VisITedResources   4.00   7.0  ...  65.0  84.0  90.0  90.0  95.0  96.0  97.0   \n",
       "AnnouncementsView  2.00   5.0  ...  33.0  58.0  73.0  79.1  83.0  85.0  86.0   \n",
       "Discussion         7.00  10.0  ...  39.0  70.0  80.0  84.0  90.0  90.0  92.0   \n",
       "\n",
       "                     98%     99%    max  \n",
       "raisedhands        97.42  100.00  100.0  \n",
       "VisITedResources   98.00   98.00   99.0  \n",
       "AnnouncementsView  89.00   93.42   98.0  \n",
       "Discussion         94.42   97.00   99.0  \n",
       "\n",
       "[4 rows x 22 columns]"
      ]
     },
     "execution_count": 93,
     "metadata": {},
     "output_type": "execute_result"
    }
   ],
   "source": [
    "schooldata.describe(percentiles=[.01,.02,.03,0.04,.05,.1,0.15,.25,0.75,0.85,.90,.95,.96,.97,.98,.99]).T"
   ]
  },
  {
   "cell_type": "markdown",
   "id": "93f72788",
   "metadata": {},
   "source": [
    "# No outliers so far"
   ]
  },
  {
   "cell_type": "markdown",
   "id": "84e29f7c",
   "metadata": {},
   "source": [
    "# Univarient analysis\n"
   ]
  },
  {
   "cell_type": "markdown",
   "id": "87c86c60",
   "metadata": {},
   "source": [
    "### Q.1 Visualize just the categorical features individually to see what options are included and how each option fares when it comes to count(how many times it appears) and see what can be deduce from that?"
   ]
  },
  {
   "cell_type": "code",
   "execution_count": 94,
   "id": "43a9e29c",
   "metadata": {},
   "outputs": [
    {
     "data": {
      "text/plain": [
       "<AxesSubplot:>"
      ]
     },
     "execution_count": 94,
     "metadata": {},
     "output_type": "execute_result"
    },
    {
     "data": {
      "image/png": "[encoded data removed]",
      "text/plain": [
       "<Figure size 432x288 with 1 Axes>"
      ]
     },
     "metadata": {
      "needs_background": "light"
     },
     "output_type": "display_data"
    }
   ],
   "source": [
    "schooldata['Topic'].value_counts().plot(kind='bar')"
   ]
  },
  {
   "cell_type": "code",
   "execution_count": 95,
   "id": "d1072fc5",
   "metadata": {},
   "outputs": [
    {
     "data": {
      "text/plain": [
       "Index(['gender', 'NationalITy', 'PlaceofBirth', 'StageID', 'SectionID',\n",
       "       'Topic', 'Semester', 'Relation', 'raisedhands', 'VisITedResources',\n",
       "       'AnnouncementsView', 'Discussion', 'ParentAnsweringSurvey',\n",
       "       'ParentschoolSatisfaction', 'StudentAbsenceDays', 'Class'],\n",
       "      dtype='object')"
      ]
     },
     "execution_count": 95,
     "metadata": {},
     "output_type": "execute_result"
    }
   ],
   "source": [
    "df =schooldata\n",
    "df.columns"
   ]
  },
  {
   "cell_type": "code",
   "execution_count": 96,
   "id": "79957b8f",
   "metadata": {},
   "outputs": [
    {
     "data": {
      "text/plain": [
       "M    211\n",
       "H    142\n",
       "L    127\n",
       "Name: Class, dtype: int64"
      ]
     },
     "execution_count": 96,
     "metadata": {},
     "output_type": "execute_result"
    }
   ],
   "source": [
    "df['Class'].value_counts()"
   ]
  },
  {
   "cell_type": "code",
   "execution_count": 97,
   "id": "07efe3f7",
   "metadata": {},
   "outputs": [
    {
     "data": {
      "text/plain": [
       "<AxesSubplot:>"
      ]
     },
     "execution_count": 97,
     "metadata": {},
     "output_type": "execute_result"
    },
    {
     "data": {
      "image/png": "[encoded data removed]",
      "text/plain": [
       "<Figure size 432x288 with 1 Axes>"
      ]
     },
     "metadata": {
      "needs_background": "light"
     },
     "output_type": "display_data"
    }
   ],
   "source": [
    "df['Class'].value_counts().plot(kind='bar')"
   ]
  },
  {
   "cell_type": "code",
   "execution_count": 98,
   "id": "1fdbd7eb",
   "metadata": {},
   "outputs": [
    {
     "name": "stdout",
     "output_type": "stream",
     "text": [
      "<class 'pandas.core.frame.DataFrame'>\n",
      "RangeIndex: 480 entries, 0 to 479\n",
      "Data columns (total 16 columns):\n",
      " #   Column                    Non-Null Count  Dtype \n",
      "---  ------                    --------------  ----- \n",
      " 0   gender                    480 non-null    object\n",
      " 1   NationalITy               480 non-null    object\n",
      " 2   PlaceofBirth              480 non-null    object\n",
      " 3   StageID                   480 non-null    object\n",
      " 4   SectionID                 480 non-null    object\n",
      " 5   Topic                     480 non-null    object\n",
      " 6   Semester                  480 non-null    object\n",
      " 7   Relation                  480 non-null    object\n",
      " 8   raisedhands               480 non-null    int64 \n",
      " 9   VisITedResources          480 non-null    int64 \n",
      " 10  AnnouncementsView         480 non-null    int64 \n",
      " 11  Discussion                480 non-null    int64 \n",
      " 12  ParentAnsweringSurvey     480 non-null    object\n",
      " 13  ParentschoolSatisfaction  480 non-null    object\n",
      " 14  StudentAbsenceDays        480 non-null    object\n",
      " 15  Class                     480 non-null    object\n",
      "dtypes: int64(4), object(12)\n",
      "memory usage: 60.1+ KB\n"
     ]
    }
   ],
   "source": [
    "df.info()"
   ]
  },
  {
   "cell_type": "code",
   "execution_count": 99,
   "id": "3a6fbfaa",
   "metadata": {},
   "outputs": [
    {
     "data": {
      "text/plain": [
       "<AxesSubplot:>"
      ]
     },
     "execution_count": 99,
     "metadata": {},
     "output_type": "execute_result"
    },
    {
     "data": {
      "image/png": "[encoded data removed]",
      "text/plain": [
       "<Figure size 432x288 with 1 Axes>"
      ]
     },
     "metadata": {
      "needs_background": "light"
     },
     "output_type": "display_data"
    }
   ],
   "source": [
    "df['gender'].value_counts().plot(kind='bar')"
   ]
  },
  {
   "cell_type": "code",
   "execution_count": 100,
   "id": "ed937ce5",
   "metadata": {},
   "outputs": [
    {
     "data": {
      "text/plain": [
       "<AxesSubplot:>"
      ]
     },
     "execution_count": 100,
     "metadata": {},
     "output_type": "execute_result"
    },
    {
     "data": {
      "image/png": "[encoded data removed]",
      "text/plain": [
       "<Figure size 432x288 with 1 Axes>"
      ]
     },
     "metadata": {
      "needs_background": "light"
     },
     "output_type": "display_data"
    }
   ],
   "source": [
    "df[\"NationalITy\"].value_counts().plot(kind='bar')"
   ]
  },
  {
   "cell_type": "code",
   "execution_count": 101,
   "id": "83e56bf7",
   "metadata": {},
   "outputs": [
    {
     "data": {
      "text/plain": [
       "array(['lowerlevel', 'MiddleSchool', 'HighSchool'], dtype=object)"
      ]
     },
     "execution_count": 101,
     "metadata": {},
     "output_type": "execute_result"
    }
   ],
   "source": [
    "df['StageID'].unique()"
   ]
  },
  {
   "cell_type": "code",
   "execution_count": 102,
   "id": "2f576ec2",
   "metadata": {},
   "outputs": [
    {
     "data": {
      "text/plain": [
       "<AxesSubplot:>"
      ]
     },
     "execution_count": 102,
     "metadata": {},
     "output_type": "execute_result"
    },
    {
     "data": {
      "image/png": "[encoded data removed]",
      "text/plain": [
       "<Figure size 432x288 with 1 Axes>"
      ]
     },
     "metadata": {
      "needs_background": "light"
     },
     "output_type": "display_data"
    }
   ],
   "source": [
    "df['StageID'].value_counts().plot(kind='bar')"
   ]
  },
  {
   "cell_type": "code",
   "execution_count": 103,
   "id": "2c0101b3",
   "metadata": {},
   "outputs": [
    {
     "data": {
      "text/plain": [
       "array(['A', 'B', 'C'], dtype=object)"
      ]
     },
     "execution_count": 103,
     "metadata": {},
     "output_type": "execute_result"
    }
   ],
   "source": [
    "df['SectionID'].unique() "
   ]
  },
  {
   "cell_type": "code",
   "execution_count": 104,
   "id": "1226f985",
   "metadata": {},
   "outputs": [
    {
     "data": {
      "text/plain": [
       "<AxesSubplot:>"
      ]
     },
     "execution_count": 104,
     "metadata": {},
     "output_type": "execute_result"
    },
    {
     "data": {
      "image/png": "[encoded data removed]",
      "text/plain": [
       "<Figure size 432x288 with 1 Axes>"
      ]
     },
     "metadata": {
      "needs_background": "light"
     },
     "output_type": "display_data"
    }
   ],
   "source": [
    "df['SectionID'].value_counts().plot(kind='bar')"
   ]
  },
  {
   "cell_type": "code",
   "execution_count": 105,
   "id": "c1983211",
   "metadata": {},
   "outputs": [
    {
     "data": {
      "text/plain": [
       "12"
      ]
     },
     "execution_count": 105,
     "metadata": {},
     "output_type": "execute_result"
    }
   ],
   "source": [
    "df[\"Topic\"].nunique()"
   ]
  },
  {
   "cell_type": "code",
   "execution_count": 106,
   "id": "5918565b",
   "metadata": {},
   "outputs": [
    {
     "data": {
      "text/plain": [
       "<AxesSubplot:>"
      ]
     },
     "execution_count": 106,
     "metadata": {},
     "output_type": "execute_result"
    },
    {
     "data": {
      "image/png": "[encoded data removed]",
      "text/plain": [
       "<Figure size 432x288 with 1 Axes>"
      ]
     },
     "metadata": {
      "needs_background": "light"
     },
     "output_type": "display_data"
    }
   ],
   "source": [
    "df[\"Topic\"].value_counts().plot(kind='bar')"
   ]
  },
  {
   "cell_type": "code",
   "execution_count": 107,
   "id": "c7aa0570",
   "metadata": {},
   "outputs": [
    {
     "data": {
      "text/plain": [
       "<AxesSubplot:>"
      ]
     },
     "execution_count": 107,
     "metadata": {},
     "output_type": "execute_result"
    },
    {
     "data": {
      "image/png": "[encoded data removed]",
      "text/plain": [
       "<Figure size 432x288 with 1 Axes>"
      ]
     },
     "metadata": {
      "needs_background": "light"
     },
     "output_type": "display_data"
    }
   ],
   "source": [
    "df[\"PlaceofBirth\"].value_counts().plot(kind=\"bar\")"
   ]
  },
  {
   "cell_type": "code",
   "execution_count": 108,
   "id": "d6d773b6",
   "metadata": {},
   "outputs": [
    {
     "data": {
      "text/plain": [
       "F    245\n",
       "S    235\n",
       "Name: Semester, dtype: int64"
      ]
     },
     "execution_count": 108,
     "metadata": {},
     "output_type": "execute_result"
    }
   ],
   "source": [
    "df[\"Semester\"].value_counts()"
   ]
  },
  {
   "cell_type": "code",
   "execution_count": 109,
   "id": "1d3bce41",
   "metadata": {},
   "outputs": [
    {
     "data": {
      "text/plain": [
       "<AxesSubplot:>"
      ]
     },
     "execution_count": 109,
     "metadata": {},
     "output_type": "execute_result"
    },
    {
     "data": {
      "image/png": "[encoded data removed]",
      "text/plain": [
       "<Figure size 432x288 with 1 Axes>"
      ]
     },
     "metadata": {
      "needs_background": "light"
     },
     "output_type": "display_data"
    }
   ],
   "source": [
    "df[\"Semester\"].value_counts().plot(kind=\"bar\")"
   ]
  },
  {
   "cell_type": "code",
   "execution_count": 110,
   "id": "643420b6",
   "metadata": {},
   "outputs": [
    {
     "data": {
      "text/plain": [
       "<AxesSubplot:>"
      ]
     },
     "execution_count": 110,
     "metadata": {},
     "output_type": "execute_result"
    },
    {
     "data": {
      "image/png": "[encoded data removed]",
      "text/plain": [
       "<Figure size 432x288 with 1 Axes>"
      ]
     },
     "metadata": {
      "needs_background": "light"
     },
     "output_type": "display_data"
    }
   ],
   "source": [
    "df[\"Relation\"].value_counts().plot(kind=\"bar\")"
   ]
  },
  {
   "cell_type": "code",
   "execution_count": 111,
   "id": "8bed479e",
   "metadata": {},
   "outputs": [
    {
     "name": "stdout",
     "output_type": "stream",
     "text": [
      "Yes    270\n",
      "No     210\n",
      "Name: ParentAnsweringSurvey, dtype: int64\n"
     ]
    },
    {
     "data": {
      "text/plain": [
       "<AxesSubplot:>"
      ]
     },
     "execution_count": 111,
     "metadata": {},
     "output_type": "execute_result"
    },
    {
     "data": {
      "image/png": "[encoded data removed]",
      "text/plain": [
       "<Figure size 432x288 with 1 Axes>"
      ]
     },
     "metadata": {
      "needs_background": "light"
     },
     "output_type": "display_data"
    }
   ],
   "source": [
    "print(df[\"ParentAnsweringSurvey\"].value_counts())\n",
    "df[\"ParentAnsweringSurvey\"].value_counts().plot(kind=\"bar\")"
   ]
  },
  {
   "cell_type": "code",
   "execution_count": 112,
   "id": "8c3bf5f4",
   "metadata": {},
   "outputs": [
    {
     "name": "stdout",
     "output_type": "stream",
     "text": [
      "Good    292\n",
      "Bad     188\n",
      "Name: ParentschoolSatisfaction, dtype: int64\n"
     ]
    },
    {
     "data": {
      "text/plain": [
       "<AxesSubplot:>"
      ]
     },
     "execution_count": 112,
     "metadata": {},
     "output_type": "execute_result"
    },
    {
     "data": {
      "image/png": "[encoded data removed]",
      "text/plain": [
       "<Figure size 432x288 with 1 Axes>"
      ]
     },
     "metadata": {
      "needs_background": "light"
     },
     "output_type": "display_data"
    }
   ],
   "source": [
    "print(df[\"ParentschoolSatisfaction\"].value_counts())\n",
    "df[\"ParentschoolSatisfaction\"].value_counts().plot(kind=\"bar\")"
   ]
  },
  {
   "cell_type": "code",
   "execution_count": 113,
   "id": "775d88a2",
   "metadata": {},
   "outputs": [
    {
     "name": "stdout",
     "output_type": "stream",
     "text": [
      "Under-7    289\n",
      "Above-7    191\n",
      "Name: StudentAbsenceDays, dtype: int64\n"
     ]
    },
    {
     "data": {
      "text/plain": [
       "<AxesSubplot:>"
      ]
     },
     "execution_count": 113,
     "metadata": {},
     "output_type": "execute_result"
    },
    {
     "data": {
      "image/png": "[encoded data removed]",
      "text/plain": [
       "<Figure size 432x288 with 1 Axes>"
      ]
     },
     "metadata": {
      "needs_background": "light"
     },
     "output_type": "display_data"
    }
   ],
   "source": [
    "print(df[\"StudentAbsenceDays\"].value_counts())\n",
    "df[\"StudentAbsenceDays\"].value_counts().plot(kind=\"bar\")"
   ]
  },
  {
   "cell_type": "code",
   "execution_count": 114,
   "id": "333588ab",
   "metadata": {},
   "outputs": [
    {
     "name": "stdout",
     "output_type": "stream",
     "text": [
      "M    211\n",
      "H    142\n",
      "L    127\n",
      "Name: Class, dtype: int64\n"
     ]
    },
    {
     "data": {
      "text/plain": [
       "<AxesSubplot:>"
      ]
     },
     "execution_count": 114,
     "metadata": {},
     "output_type": "execute_result"
    },
    {
     "data": {
      "image/png": "[encoded data removed]",
      "text/plain": [
       "<Figure size 432x288 with 1 Axes>"
      ]
     },
     "metadata": {
      "needs_background": "light"
     },
     "output_type": "display_data"
    }
   ],
   "source": [
    "print(df[\"Class\"].value_counts())\n",
    "df[\"Class\"].value_counts().plot(kind=\"bar\")"
   ]
  },
  {
   "cell_type": "markdown",
   "id": "fc901d01",
   "metadata": {},
   "source": [
    "# Q.2 Look at some categorical features in relation to each other, to see what insights could be possibly read?"
   ]
  },
  {
   "cell_type": "code",
   "execution_count": 115,
   "id": "e76b207c",
   "metadata": {},
   "outputs": [
    {
     "data": {
      "text/plain": [
       "Index(['gender', 'NationalITy', 'PlaceofBirth', 'StageID', 'SectionID',\n",
       "       'Topic', 'Semester', 'Relation', 'raisedhands', 'VisITedResources',\n",
       "       'AnnouncementsView', 'Discussion', 'ParentAnsweringSurvey',\n",
       "       'ParentschoolSatisfaction', 'StudentAbsenceDays', 'Class'],\n",
       "      dtype='object')"
      ]
     },
     "execution_count": 115,
     "metadata": {},
     "output_type": "execute_result"
    }
   ],
   "source": [
    "df.columns"
   ]
  },
  {
   "cell_type": "code",
   "execution_count": 116,
   "id": "54441199",
   "metadata": {},
   "outputs": [
    {
     "data": {
      "text/html": [
       "<div>\n",
       "<style scoped>\n",
       "    .dataframe tbody tr th:only-of-type {\n",
       "        vertical-align: middle;\n",
       "    }\n",
       "\n",
       "    .dataframe tbody tr th {\n",
       "        vertical-align: top;\n",
       "    }\n",
       "\n",
       "    .dataframe thead th {\n",
       "        text-align: right;\n",
       "    }\n",
       "</style>\n",
       "<table border=\"1\" class=\"dataframe\">\n",
       "  <thead>\n",
       "    <tr style=\"text-align: right;\">\n",
       "      <th></th>\n",
       "      <th>gender</th>\n",
       "      <th>NationalITy</th>\n",
       "      <th>PlaceofBirth</th>\n",
       "      <th>StageID</th>\n",
       "      <th>SectionID</th>\n",
       "      <th>Topic</th>\n",
       "      <th>Semester</th>\n",
       "      <th>Relation</th>\n",
       "      <th>raisedhands</th>\n",
       "      <th>VisITedResources</th>\n",
       "      <th>AnnouncementsView</th>\n",
       "      <th>Discussion</th>\n",
       "      <th>ParentAnsweringSurvey</th>\n",
       "      <th>ParentschoolSatisfaction</th>\n",
       "      <th>StudentAbsenceDays</th>\n",
       "      <th>Class</th>\n",
       "    </tr>\n",
       "  </thead>\n",
       "  <tbody>\n",
       "    <tr>\n",
       "      <th>0</th>\n",
       "      <td>M</td>\n",
       "      <td>KW</td>\n",
       "      <td>KuwaIT</td>\n",
       "      <td>lowerlevel</td>\n",
       "      <td>A</td>\n",
       "      <td>IT</td>\n",
       "      <td>F</td>\n",
       "      <td>Father</td>\n",
       "      <td>15</td>\n",
       "      <td>16</td>\n",
       "      <td>2</td>\n",
       "      <td>20</td>\n",
       "      <td>Yes</td>\n",
       "      <td>Good</td>\n",
       "      <td>Under-7</td>\n",
       "      <td>M</td>\n",
       "    </tr>\n",
       "    <tr>\n",
       "      <th>1</th>\n",
       "      <td>M</td>\n",
       "      <td>KW</td>\n",
       "      <td>KuwaIT</td>\n",
       "      <td>lowerlevel</td>\n",
       "      <td>A</td>\n",
       "      <td>IT</td>\n",
       "      <td>F</td>\n",
       "      <td>Father</td>\n",
       "      <td>20</td>\n",
       "      <td>20</td>\n",
       "      <td>3</td>\n",
       "      <td>25</td>\n",
       "      <td>Yes</td>\n",
       "      <td>Good</td>\n",
       "      <td>Under-7</td>\n",
       "      <td>M</td>\n",
       "    </tr>\n",
       "  </tbody>\n",
       "</table>\n",
       "</div>"
      ],
      "text/plain": [
       "  gender NationalITy PlaceofBirth     StageID SectionID Topic Semester  \\\n",
       "0      M          KW       KuwaIT  lowerlevel         A    IT        F   \n",
       "1      M          KW       KuwaIT  lowerlevel         A    IT        F   \n",
       "\n",
       "  Relation  raisedhands  VisITedResources  AnnouncementsView  Discussion  \\\n",
       "0   Father           15                16                  2          20   \n",
       "1   Father           20                20                  3          25   \n",
       "\n",
       "  ParentAnsweringSurvey ParentschoolSatisfaction StudentAbsenceDays Class  \n",
       "0                   Yes                     Good            Under-7     M  \n",
       "1                   Yes                     Good            Under-7     M  "
      ]
     },
     "execution_count": 116,
     "metadata": {},
     "output_type": "execute_result"
    }
   ],
   "source": [
    "df.head(2)"
   ]
  },
  {
   "cell_type": "code",
   "execution_count": 117,
   "id": "1907eddd",
   "metadata": {},
   "outputs": [
    {
     "data": {
      "text/plain": [
       "<AxesSubplot:xlabel='ParentAnsweringSurvey,Relation'>"
      ]
     },
     "execution_count": 117,
     "metadata": {},
     "output_type": "execute_result"
    },
    {
     "data": {
      "image/png": "[encoded data removed]",
      "text/plain": [
       "<Figure size 432x288 with 1 Axes>"
      ]
     },
     "metadata": {
      "needs_background": "light"
     },
     "output_type": "display_data"
    }
   ],
   "source": [
    "df.groupby(['ParentAnsweringSurvey']).Relation.value_counts() .plot(kind='bar')"
   ]
  },
  {
   "cell_type": "code",
   "execution_count": 118,
   "id": "de140687",
   "metadata": {},
   "outputs": [
    {
     "data": {
      "text/plain": [
       "<AxesSubplot:xlabel='NationalITy,gender'>"
      ]
     },
     "execution_count": 118,
     "metadata": {},
     "output_type": "execute_result"
    },
    {
     "data": {
      "image/png": "[encoded data removed]",
      "text/plain": [
       "<Figure size 720x576 with 1 Axes>"
      ]
     },
     "metadata": {
      "needs_background": "light"
     },
     "output_type": "display_data"
    }
   ],
   "source": [
    "plt.figure(figsize=(10,8))\n",
    "schooldata.groupby('NationalITy').gender.value_counts().plot(kind='bar')"
   ]
  },
  {
   "cell_type": "code",
   "execution_count": 119,
   "id": "3584c15a",
   "metadata": {},
   "outputs": [
    {
     "data": {
      "text/plain": [
       "<AxesSubplot:xlabel='SectionID,gender'>"
      ]
     },
     "execution_count": 119,
     "metadata": {},
     "output_type": "execute_result"
    },
    {
     "data": {
      "image/png": "[encoded data removed]",
      "text/plain": [
       "<Figure size 432x288 with 1 Axes>"
      ]
     },
     "metadata": {
      "needs_background": "light"
     },
     "output_type": "display_data"
    }
   ],
   "source": [
    "schooldata.groupby('SectionID')['gender'].value_counts().plot(kind='bar')"
   ]
  },
  {
   "cell_type": "code",
   "execution_count": 120,
   "id": "0ad706eb",
   "metadata": {},
   "outputs": [
    {
     "data": {
      "text/plain": [
       "<AxesSubplot:xlabel='SectionID,Topic'>"
      ]
     },
     "execution_count": 120,
     "metadata": {},
     "output_type": "execute_result"
    },
    {
     "data": {
      "image/png": "[encoded data removed]",
      "text/plain": [
       "<Figure size 1296x360 with 1 Axes>"
      ]
     },
     "metadata": {
      "needs_background": "light"
     },
     "output_type": "display_data"
    }
   ],
   "source": [
    "plt.figure(figsize=(18,5))\n",
    "schooldata.groupby('SectionID')['Topic'].value_counts().plot(kind='bar')"
   ]
  },
  {
   "cell_type": "code",
   "execution_count": 121,
   "id": "ef796e7f",
   "metadata": {},
   "outputs": [
    {
     "data": {
      "text/plain": [
       "<AxesSubplot:xlabel='gender,StageID'>"
      ]
     },
     "execution_count": 121,
     "metadata": {},
     "output_type": "execute_result"
    },
    {
     "data": {
      "image/png": "[encoded data removed]",
      "text/plain": [
       "<Figure size 432x288 with 1 Axes>"
      ]
     },
     "metadata": {
      "needs_background": "light"
     },
     "output_type": "display_data"
    }
   ],
   "source": [
    "schooldata.groupby('gender').StageID.value_counts().plot(kind='bar')"
   ]
  },
  {
   "cell_type": "code",
   "execution_count": 122,
   "id": "b6335bcd",
   "metadata": {},
   "outputs": [
    {
     "data": {
      "text/plain": [
       "<AxesSubplot:xlabel='Relation,ParentAnsweringSurvey'>"
      ]
     },
     "execution_count": 122,
     "metadata": {},
     "output_type": "execute_result"
    },
    {
     "data": {
      "image/png": "[encoded data removed]",
      "text/plain": [
       "<Figure size 432x288 with 1 Axes>"
      ]
     },
     "metadata": {
      "needs_background": "light"
     },
     "output_type": "display_data"
    }
   ],
   "source": [
    "schooldata.groupby('Relation').ParentAnsweringSurvey.value_counts().plot(kind='bar')"
   ]
  },
  {
   "cell_type": "code",
   "execution_count": 123,
   "id": "85a90c4c",
   "metadata": {},
   "outputs": [
    {
     "data": {
      "text/plain": [
       "array(['F', 'S'], dtype=object)"
      ]
     },
     "execution_count": 123,
     "metadata": {},
     "output_type": "execute_result"
    }
   ],
   "source": [
    "df['Semester'].unique()"
   ]
  },
  {
   "cell_type": "code",
   "execution_count": 124,
   "id": "771207c8",
   "metadata": {},
   "outputs": [
    {
     "data": {
      "text/plain": [
       "<AxesSubplot:xlabel='Semester,gender'>"
      ]
     },
     "execution_count": 124,
     "metadata": {},
     "output_type": "execute_result"
    },
    {
     "data": {
      "image/png": "[encoded data removed]",
      "text/plain": [
       "<Figure size 432x288 with 1 Axes>"
      ]
     },
     "metadata": {
      "needs_background": "light"
     },
     "output_type": "display_data"
    }
   ],
   "source": [
    "schooldata.groupby('Semester').gender.value_counts().plot(kind='bar')"
   ]
  },
  {
   "cell_type": "code",
   "execution_count": null,
   "id": "ccb31f80",
   "metadata": {},
   "outputs": [],
   "source": []
  },
  {
   "cell_type": "markdown",
   "id": "b78f1284",
   "metadata": {},
   "source": [
    "## Q3. Visualize categorical variables with numerical variables and give conclusions?"
   ]
  },
  {
   "cell_type": "code",
   "execution_count": 125,
   "id": "78661e6f",
   "metadata": {},
   "outputs": [
    {
     "name": "stdout",
     "output_type": "stream",
     "text": [
      "<class 'pandas.core.frame.DataFrame'>\n",
      "RangeIndex: 480 entries, 0 to 479\n",
      "Data columns (total 16 columns):\n",
      " #   Column                    Non-Null Count  Dtype \n",
      "---  ------                    --------------  ----- \n",
      " 0   gender                    480 non-null    object\n",
      " 1   NationalITy               480 non-null    object\n",
      " 2   PlaceofBirth              480 non-null    object\n",
      " 3   StageID                   480 non-null    object\n",
      " 4   SectionID                 480 non-null    object\n",
      " 5   Topic                     480 non-null    object\n",
      " 6   Semester                  480 non-null    object\n",
      " 7   Relation                  480 non-null    object\n",
      " 8   raisedhands               480 non-null    int64 \n",
      " 9   VisITedResources          480 non-null    int64 \n",
      " 10  AnnouncementsView         480 non-null    int64 \n",
      " 11  Discussion                480 non-null    int64 \n",
      " 12  ParentAnsweringSurvey     480 non-null    object\n",
      " 13  ParentschoolSatisfaction  480 non-null    object\n",
      " 14  StudentAbsenceDays        480 non-null    object\n",
      " 15  Class                     480 non-null    object\n",
      "dtypes: int64(4), object(12)\n",
      "memory usage: 60.1+ KB\n"
     ]
    }
   ],
   "source": [
    "df.info()"
   ]
  },
  {
   "cell_type": "code",
   "execution_count": 126,
   "id": "d1343359",
   "metadata": {},
   "outputs": [
    {
     "data": {
      "text/plain": [
       "<AxesSubplot:xlabel='StageID', ylabel='raisedhands'>"
      ]
     },
     "execution_count": 126,
     "metadata": {},
     "output_type": "execute_result"
    },
    {
     "data": {
      "image/png": "[encoded data removed]",
      "text/plain": [
       "<Figure size 432x288 with 1 Axes>"
      ]
     },
     "metadata": {
      "needs_background": "light"
     },
     "output_type": "display_data"
    }
   ],
   "source": [
    "sns.barplot(x='StageID', y ='raisedhands', data = schooldata)"
   ]
  },
  {
   "cell_type": "code",
   "execution_count": 127,
   "id": "057edadf",
   "metadata": {},
   "outputs": [],
   "source": [
    "def viz(X,Y):\n",
    "    sns.barplot(x=X, y = Y, data = schooldata , ci=False)"
   ]
  },
  {
   "cell_type": "code",
   "execution_count": 128,
   "id": "d1c342d6",
   "metadata": {},
   "outputs": [
    {
     "data": {
      "image/png": "[encoded data removed]",
      "text/plain": [
       "<Figure size 432x288 with 1 Axes>"
      ]
     },
     "metadata": {
      "needs_background": "light"
     },
     "output_type": "display_data"
    }
   ],
   "source": [
    "viz(df[\"StageID\"],df[\"AnnouncementsView\"])"
   ]
  },
  {
   "cell_type": "code",
   "execution_count": 129,
   "id": "c06bc87f",
   "metadata": {},
   "outputs": [
    {
     "data": {
      "image/png": "[encoded data removed]",
      "text/plain": [
       "<Figure size 432x288 with 1 Axes>"
      ]
     },
     "metadata": {
      "needs_background": "light"
     },
     "output_type": "display_data"
    }
   ],
   "source": [
    "viz(df[\"StageID\"],df[\"Discussion\"])"
   ]
  },
  {
   "cell_type": "code",
   "execution_count": 130,
   "id": "10dcb827",
   "metadata": {},
   "outputs": [
    {
     "data": {
      "image/png": "[encoded data removed]",
      "text/plain": [
       "<Figure size 432x288 with 1 Axes>"
      ]
     },
     "metadata": {
      "needs_background": "light"
     },
     "output_type": "display_data"
    }
   ],
   "source": [
    "viz(df[\"StageID\"],df[\"VisITedResources\"])"
   ]
  },
  {
   "cell_type": "code",
   "execution_count": 131,
   "id": "c51a5470",
   "metadata": {},
   "outputs": [
    {
     "data": {
      "image/png": "[encoded data removed]",
      "text/plain": [
       "<Figure size 432x288 with 1 Axes>"
      ]
     },
     "metadata": {
      "needs_background": "light"
     },
     "output_type": "display_data"
    }
   ],
   "source": [
    "viz( df['Relation'],df['Discussion'])"
   ]
  },
  {
   "cell_type": "code",
   "execution_count": 132,
   "id": "cd094253",
   "metadata": {},
   "outputs": [
    {
     "data": {
      "image/png": "[encoded data removed]",
      "text/plain": [
       "<Figure size 432x288 with 1 Axes>"
      ]
     },
     "metadata": {
      "needs_background": "light"
     },
     "output_type": "display_data"
    }
   ],
   "source": [
    "viz(df['Class'],df['raisedhands'])"
   ]
  },
  {
   "cell_type": "code",
   "execution_count": 133,
   "id": "714b3d10",
   "metadata": {},
   "outputs": [
    {
     "data": {
      "image/png": "[encoded data removed]",
      "text/plain": [
       "<Figure size 432x288 with 1 Axes>"
      ]
     },
     "metadata": {
      "needs_background": "light"
     },
     "output_type": "display_data"
    }
   ],
   "source": [
    "viz(df['Class'],df['VisITedResources'])"
   ]
  },
  {
   "cell_type": "code",
   "execution_count": 134,
   "id": "6627d1f9",
   "metadata": {},
   "outputs": [
    {
     "data": {
      "image/png": "[encoded data removed]",
      "text/plain": [
       "<Figure size 792x576 with 1 Axes>"
      ]
     },
     "metadata": {},
     "output_type": "display_data"
    }
   ],
   "source": [
    "sns.set(rc={'figure.figsize':(11,8)})\n",
    "viz(df['PlaceofBirth'],df['VisITedResources'])\n"
   ]
  },
  {
   "cell_type": "code",
   "execution_count": 135,
   "id": "c8240a47",
   "metadata": {},
   "outputs": [
    {
     "data": {
      "image/png": "[encoded data removed]",
      "text/plain": [
       "<Figure size 792x576 with 1 Axes>"
      ]
     },
     "metadata": {},
     "output_type": "display_data"
    }
   ],
   "source": [
    "viz(df['PlaceofBirth'],df['raisedhands'])"
   ]
  },
  {
   "cell_type": "markdown",
   "id": "4d997114",
   "metadata": {},
   "source": [
    "## From the above result, what are the factors that leads to get ParentschoolSatisfaction score?"
   ]
  },
  {
   "cell_type": "code",
   "execution_count": 136,
   "id": "987b7c2f",
   "metadata": {},
   "outputs": [
    {
     "data": {
      "text/html": [
       "<div>\n",
       "<style scoped>\n",
       "    .dataframe tbody tr th:only-of-type {\n",
       "        vertical-align: middle;\n",
       "    }\n",
       "\n",
       "    .dataframe tbody tr th {\n",
       "        vertical-align: top;\n",
       "    }\n",
       "\n",
       "    .dataframe thead th {\n",
       "        text-align: right;\n",
       "    }\n",
       "</style>\n",
       "<table border=\"1\" class=\"dataframe\">\n",
       "  <thead>\n",
       "    <tr style=\"text-align: right;\">\n",
       "      <th></th>\n",
       "      <th>gender</th>\n",
       "      <th>NationalITy</th>\n",
       "      <th>PlaceofBirth</th>\n",
       "      <th>StageID</th>\n",
       "      <th>SectionID</th>\n",
       "      <th>Topic</th>\n",
       "      <th>Semester</th>\n",
       "      <th>Relation</th>\n",
       "      <th>raisedhands</th>\n",
       "      <th>VisITedResources</th>\n",
       "      <th>AnnouncementsView</th>\n",
       "      <th>Discussion</th>\n",
       "      <th>ParentAnsweringSurvey</th>\n",
       "      <th>ParentschoolSatisfaction</th>\n",
       "      <th>StudentAbsenceDays</th>\n",
       "      <th>Class</th>\n",
       "    </tr>\n",
       "  </thead>\n",
       "  <tbody>\n",
       "    <tr>\n",
       "      <th>0</th>\n",
       "      <td>M</td>\n",
       "      <td>KW</td>\n",
       "      <td>KuwaIT</td>\n",
       "      <td>lowerlevel</td>\n",
       "      <td>A</td>\n",
       "      <td>IT</td>\n",
       "      <td>F</td>\n",
       "      <td>Father</td>\n",
       "      <td>15</td>\n",
       "      <td>16</td>\n",
       "      <td>2</td>\n",
       "      <td>20</td>\n",
       "      <td>Yes</td>\n",
       "      <td>Good</td>\n",
       "      <td>Under-7</td>\n",
       "      <td>M</td>\n",
       "    </tr>\n",
       "    <tr>\n",
       "      <th>1</th>\n",
       "      <td>M</td>\n",
       "      <td>KW</td>\n",
       "      <td>KuwaIT</td>\n",
       "      <td>lowerlevel</td>\n",
       "      <td>A</td>\n",
       "      <td>IT</td>\n",
       "      <td>F</td>\n",
       "      <td>Father</td>\n",
       "      <td>20</td>\n",
       "      <td>20</td>\n",
       "      <td>3</td>\n",
       "      <td>25</td>\n",
       "      <td>Yes</td>\n",
       "      <td>Good</td>\n",
       "      <td>Under-7</td>\n",
       "      <td>M</td>\n",
       "    </tr>\n",
       "  </tbody>\n",
       "</table>\n",
       "</div>"
      ],
      "text/plain": [
       "  gender NationalITy PlaceofBirth     StageID SectionID Topic Semester  \\\n",
       "0      M          KW       KuwaIT  lowerlevel         A    IT        F   \n",
       "1      M          KW       KuwaIT  lowerlevel         A    IT        F   \n",
       "\n",
       "  Relation  raisedhands  VisITedResources  AnnouncementsView  Discussion  \\\n",
       "0   Father           15                16                  2          20   \n",
       "1   Father           20                20                  3          25   \n",
       "\n",
       "  ParentAnsweringSurvey ParentschoolSatisfaction StudentAbsenceDays Class  \n",
       "0                   Yes                     Good            Under-7     M  \n",
       "1                   Yes                     Good            Under-7     M  "
      ]
     },
     "execution_count": 136,
     "metadata": {},
     "output_type": "execute_result"
    }
   ],
   "source": [
    "df.head(2)"
   ]
  },
  {
   "cell_type": "code",
   "execution_count": 137,
   "id": "16a4f870",
   "metadata": {},
   "outputs": [
    {
     "data": {
      "text/plain": [
       "Index(['gender', 'NationalITy', 'PlaceofBirth', 'StageID', 'SectionID',\n",
       "       'Topic', 'Semester', 'Relation', 'raisedhands', 'VisITedResources',\n",
       "       'AnnouncementsView', 'Discussion', 'ParentAnsweringSurvey',\n",
       "       'ParentschoolSatisfaction', 'StudentAbsenceDays', 'Class'],\n",
       "      dtype='object')"
      ]
     },
     "execution_count": 137,
     "metadata": {},
     "output_type": "execute_result"
    }
   ],
   "source": [
    "df.columns"
   ]
  },
  {
   "cell_type": "markdown",
   "id": "50cb24db",
   "metadata": {},
   "source": [
    "# converting y/desired variable into numerical term"
   ]
  },
  {
   "cell_type": "code",
   "execution_count": 138,
   "id": "db037b8d",
   "metadata": {},
   "outputs": [],
   "source": [
    "df[\"NewParentschoolSatisfaction\"]=np.where(df[\"ParentschoolSatisfaction\"]==\"Good\",1,0)"
   ]
  },
  {
   "cell_type": "code",
   "execution_count": 139,
   "id": "57daaca5",
   "metadata": {},
   "outputs": [
    {
     "data": {
      "text/html": [
       "<div>\n",
       "<style scoped>\n",
       "    .dataframe tbody tr th:only-of-type {\n",
       "        vertical-align: middle;\n",
       "    }\n",
       "\n",
       "    .dataframe tbody tr th {\n",
       "        vertical-align: top;\n",
       "    }\n",
       "\n",
       "    .dataframe thead th {\n",
       "        text-align: right;\n",
       "    }\n",
       "</style>\n",
       "<table border=\"1\" class=\"dataframe\">\n",
       "  <thead>\n",
       "    <tr style=\"text-align: right;\">\n",
       "      <th></th>\n",
       "      <th>gender</th>\n",
       "      <th>NationalITy</th>\n",
       "      <th>PlaceofBirth</th>\n",
       "      <th>StageID</th>\n",
       "      <th>SectionID</th>\n",
       "      <th>Topic</th>\n",
       "      <th>Semester</th>\n",
       "      <th>Relation</th>\n",
       "      <th>raisedhands</th>\n",
       "      <th>VisITedResources</th>\n",
       "      <th>AnnouncementsView</th>\n",
       "      <th>Discussion</th>\n",
       "      <th>ParentAnsweringSurvey</th>\n",
       "      <th>ParentschoolSatisfaction</th>\n",
       "      <th>StudentAbsenceDays</th>\n",
       "      <th>Class</th>\n",
       "      <th>NewParentschoolSatisfaction</th>\n",
       "    </tr>\n",
       "  </thead>\n",
       "  <tbody>\n",
       "    <tr>\n",
       "      <th>0</th>\n",
       "      <td>M</td>\n",
       "      <td>KW</td>\n",
       "      <td>KuwaIT</td>\n",
       "      <td>lowerlevel</td>\n",
       "      <td>A</td>\n",
       "      <td>IT</td>\n",
       "      <td>F</td>\n",
       "      <td>Father</td>\n",
       "      <td>15</td>\n",
       "      <td>16</td>\n",
       "      <td>2</td>\n",
       "      <td>20</td>\n",
       "      <td>Yes</td>\n",
       "      <td>Good</td>\n",
       "      <td>Under-7</td>\n",
       "      <td>M</td>\n",
       "      <td>1</td>\n",
       "    </tr>\n",
       "    <tr>\n",
       "      <th>1</th>\n",
       "      <td>M</td>\n",
       "      <td>KW</td>\n",
       "      <td>KuwaIT</td>\n",
       "      <td>lowerlevel</td>\n",
       "      <td>A</td>\n",
       "      <td>IT</td>\n",
       "      <td>F</td>\n",
       "      <td>Father</td>\n",
       "      <td>20</td>\n",
       "      <td>20</td>\n",
       "      <td>3</td>\n",
       "      <td>25</td>\n",
       "      <td>Yes</td>\n",
       "      <td>Good</td>\n",
       "      <td>Under-7</td>\n",
       "      <td>M</td>\n",
       "      <td>1</td>\n",
       "    </tr>\n",
       "  </tbody>\n",
       "</table>\n",
       "</div>"
      ],
      "text/plain": [
       "  gender NationalITy PlaceofBirth     StageID SectionID Topic Semester  \\\n",
       "0      M          KW       KuwaIT  lowerlevel         A    IT        F   \n",
       "1      M          KW       KuwaIT  lowerlevel         A    IT        F   \n",
       "\n",
       "  Relation  raisedhands  VisITedResources  AnnouncementsView  Discussion  \\\n",
       "0   Father           15                16                  2          20   \n",
       "1   Father           20                20                  3          25   \n",
       "\n",
       "  ParentAnsweringSurvey ParentschoolSatisfaction StudentAbsenceDays Class  \\\n",
       "0                   Yes                     Good            Under-7     M   \n",
       "1                   Yes                     Good            Under-7     M   \n",
       "\n",
       "   NewParentschoolSatisfaction  \n",
       "0                            1  \n",
       "1                            1  "
      ]
     },
     "execution_count": 139,
     "metadata": {},
     "output_type": "execute_result"
    }
   ],
   "source": [
    "df.head(2)"
   ]
  },
  {
   "cell_type": "code",
   "execution_count": 140,
   "id": "dd0d91f3",
   "metadata": {},
   "outputs": [],
   "source": [
    "df.drop(columns=\"ParentschoolSatisfaction\", inplace=True)"
   ]
  },
  {
   "cell_type": "markdown",
   "id": "4f9d5f7e",
   "metadata": {},
   "source": [
    "# now we make dummies"
   ]
  },
  {
   "cell_type": "code",
   "execution_count": 141,
   "id": "a5ca6ed6",
   "metadata": {},
   "outputs": [],
   "source": [
    "df1=pd.get_dummies(df, columns=[\"gender\",\"NationalITy\",\"PlaceofBirth\", \"StageID\", \"SectionID\", \"Topic\",\"Semester\", \"Relation\", \"ParentAnsweringSurvey\",\"StudentAbsenceDays\", \"StudentAbsenceDays\", \"Class\" ],drop_first=True)"
   ]
  },
  {
   "cell_type": "code",
   "execution_count": 142,
   "id": "309d0adc",
   "metadata": {},
   "outputs": [
    {
     "data": {
      "text/html": [
       "<div>\n",
       "<style scoped>\n",
       "    .dataframe tbody tr th:only-of-type {\n",
       "        vertical-align: middle;\n",
       "    }\n",
       "\n",
       "    .dataframe tbody tr th {\n",
       "        vertical-align: top;\n",
       "    }\n",
       "\n",
       "    .dataframe thead th {\n",
       "        text-align: right;\n",
       "    }\n",
       "</style>\n",
       "<table border=\"1\" class=\"dataframe\">\n",
       "  <thead>\n",
       "    <tr style=\"text-align: right;\">\n",
       "      <th></th>\n",
       "      <th>raisedhands</th>\n",
       "      <th>VisITedResources</th>\n",
       "      <th>AnnouncementsView</th>\n",
       "      <th>Discussion</th>\n",
       "      <th>NewParentschoolSatisfaction</th>\n",
       "      <th>gender_M</th>\n",
       "      <th>NationalITy_Iran</th>\n",
       "      <th>NationalITy_Iraq</th>\n",
       "      <th>NationalITy_Jordan</th>\n",
       "      <th>NationalITy_KW</th>\n",
       "      <th>...</th>\n",
       "      <th>Topic_Quran</th>\n",
       "      <th>Topic_Science</th>\n",
       "      <th>Topic_Spanish</th>\n",
       "      <th>Semester_S</th>\n",
       "      <th>Relation_Mum</th>\n",
       "      <th>ParentAnsweringSurvey_Yes</th>\n",
       "      <th>StudentAbsenceDays_Under-7</th>\n",
       "      <th>StudentAbsenceDays_Under-7</th>\n",
       "      <th>Class_L</th>\n",
       "      <th>Class_M</th>\n",
       "    </tr>\n",
       "  </thead>\n",
       "  <tbody>\n",
       "    <tr>\n",
       "      <th>0</th>\n",
       "      <td>15</td>\n",
       "      <td>16</td>\n",
       "      <td>2</td>\n",
       "      <td>20</td>\n",
       "      <td>1</td>\n",
       "      <td>1</td>\n",
       "      <td>0</td>\n",
       "      <td>0</td>\n",
       "      <td>0</td>\n",
       "      <td>1</td>\n",
       "      <td>...</td>\n",
       "      <td>0</td>\n",
       "      <td>0</td>\n",
       "      <td>0</td>\n",
       "      <td>0</td>\n",
       "      <td>0</td>\n",
       "      <td>1</td>\n",
       "      <td>1</td>\n",
       "      <td>1</td>\n",
       "      <td>0</td>\n",
       "      <td>1</td>\n",
       "    </tr>\n",
       "    <tr>\n",
       "      <th>1</th>\n",
       "      <td>20</td>\n",
       "      <td>20</td>\n",
       "      <td>3</td>\n",
       "      <td>25</td>\n",
       "      <td>1</td>\n",
       "      <td>1</td>\n",
       "      <td>0</td>\n",
       "      <td>0</td>\n",
       "      <td>0</td>\n",
       "      <td>1</td>\n",
       "      <td>...</td>\n",
       "      <td>0</td>\n",
       "      <td>0</td>\n",
       "      <td>0</td>\n",
       "      <td>0</td>\n",
       "      <td>0</td>\n",
       "      <td>1</td>\n",
       "      <td>1</td>\n",
       "      <td>1</td>\n",
       "      <td>0</td>\n",
       "      <td>1</td>\n",
       "    </tr>\n",
       "  </tbody>\n",
       "</table>\n",
       "<p>2 rows × 54 columns</p>\n",
       "</div>"
      ],
      "text/plain": [
       "   raisedhands  VisITedResources  AnnouncementsView  Discussion  \\\n",
       "0           15                16                  2          20   \n",
       "1           20                20                  3          25   \n",
       "\n",
       "   NewParentschoolSatisfaction  gender_M  NationalITy_Iran  NationalITy_Iraq  \\\n",
       "0                            1         1                 0                 0   \n",
       "1                            1         1                 0                 0   \n",
       "\n",
       "   NationalITy_Jordan  NationalITy_KW  ...  Topic_Quran  Topic_Science  \\\n",
       "0                   0               1  ...            0              0   \n",
       "1                   0               1  ...            0              0   \n",
       "\n",
       "   Topic_Spanish  Semester_S  Relation_Mum  ParentAnsweringSurvey_Yes  \\\n",
       "0              0           0             0                          1   \n",
       "1              0           0             0                          1   \n",
       "\n",
       "   StudentAbsenceDays_Under-7  StudentAbsenceDays_Under-7  Class_L  Class_M  \n",
       "0                           1                           1        0        1  \n",
       "1                           1                           1        0        1  \n",
       "\n",
       "[2 rows x 54 columns]"
      ]
     },
     "execution_count": 142,
     "metadata": {},
     "output_type": "execute_result"
    }
   ],
   "source": [
    "df1.head(2)"
   ]
  },
  {
   "cell_type": "markdown",
   "id": "564844c0",
   "metadata": {},
   "source": [
    "### Q.5 Build classification model and present it's classification report?"
   ]
  },
  {
   "cell_type": "code",
   "execution_count": 143,
   "id": "2960038e",
   "metadata": {},
   "outputs": [
    {
     "name": "stdout",
     "output_type": "stream",
     "text": [
      "<class 'pandas.core.frame.DataFrame'>\n",
      "RangeIndex: 480 entries, 0 to 479\n",
      "Data columns (total 54 columns):\n",
      " #   Column                       Non-Null Count  Dtype\n",
      "---  ------                       --------------  -----\n",
      " 0   raisedhands                  480 non-null    int64\n",
      " 1   VisITedResources             480 non-null    int64\n",
      " 2   AnnouncementsView            480 non-null    int64\n",
      " 3   Discussion                   480 non-null    int64\n",
      " 4   NewParentschoolSatisfaction  480 non-null    int32\n",
      " 5   gender_M                     480 non-null    uint8\n",
      " 6   NationalITy_Iran             480 non-null    uint8\n",
      " 7   NationalITy_Iraq             480 non-null    uint8\n",
      " 8   NationalITy_Jordan           480 non-null    uint8\n",
      " 9   NationalITy_KW               480 non-null    uint8\n",
      " 10  NationalITy_Lybia            480 non-null    uint8\n",
      " 11  NationalITy_Morocco          480 non-null    uint8\n",
      " 12  NationalITy_Palestine        480 non-null    uint8\n",
      " 13  NationalITy_SaudiArabia      480 non-null    uint8\n",
      " 14  NationalITy_Syria            480 non-null    uint8\n",
      " 15  NationalITy_Tunis            480 non-null    uint8\n",
      " 16  NationalITy_USA              480 non-null    uint8\n",
      " 17  NationalITy_lebanon          480 non-null    uint8\n",
      " 18  NationalITy_venzuela         480 non-null    uint8\n",
      " 19  PlaceofBirth_Iran            480 non-null    uint8\n",
      " 20  PlaceofBirth_Iraq            480 non-null    uint8\n",
      " 21  PlaceofBirth_Jordan          480 non-null    uint8\n",
      " 22  PlaceofBirth_KuwaIT          480 non-null    uint8\n",
      " 23  PlaceofBirth_Lybia           480 non-null    uint8\n",
      " 24  PlaceofBirth_Morocco         480 non-null    uint8\n",
      " 25  PlaceofBirth_Palestine       480 non-null    uint8\n",
      " 26  PlaceofBirth_SaudiArabia     480 non-null    uint8\n",
      " 27  PlaceofBirth_Syria           480 non-null    uint8\n",
      " 28  PlaceofBirth_Tunis           480 non-null    uint8\n",
      " 29  PlaceofBirth_USA             480 non-null    uint8\n",
      " 30  PlaceofBirth_lebanon         480 non-null    uint8\n",
      " 31  PlaceofBirth_venzuela        480 non-null    uint8\n",
      " 32  StageID_MiddleSchool         480 non-null    uint8\n",
      " 33  StageID_lowerlevel           480 non-null    uint8\n",
      " 34  SectionID_B                  480 non-null    uint8\n",
      " 35  SectionID_C                  480 non-null    uint8\n",
      " 36  Topic_Biology                480 non-null    uint8\n",
      " 37  Topic_Chemistry              480 non-null    uint8\n",
      " 38  Topic_English                480 non-null    uint8\n",
      " 39  Topic_French                 480 non-null    uint8\n",
      " 40  Topic_Geology                480 non-null    uint8\n",
      " 41  Topic_History                480 non-null    uint8\n",
      " 42  Topic_IT                     480 non-null    uint8\n",
      " 43  Topic_Math                   480 non-null    uint8\n",
      " 44  Topic_Quran                  480 non-null    uint8\n",
      " 45  Topic_Science                480 non-null    uint8\n",
      " 46  Topic_Spanish                480 non-null    uint8\n",
      " 47  Semester_S                   480 non-null    uint8\n",
      " 48  Relation_Mum                 480 non-null    uint8\n",
      " 49  ParentAnsweringSurvey_Yes    480 non-null    uint8\n",
      " 50  StudentAbsenceDays_Under-7   480 non-null    uint8\n",
      " 51  StudentAbsenceDays_Under-7   480 non-null    uint8\n",
      " 52  Class_L                      480 non-null    uint8\n",
      " 53  Class_M                      480 non-null    uint8\n",
      "dtypes: int32(1), int64(4), uint8(49)\n",
      "memory usage: 40.0 KB\n"
     ]
    }
   ],
   "source": [
    "df1.info()"
   ]
  },
  {
   "cell_type": "code",
   "execution_count": 145,
   "id": "8afb52c5",
   "metadata": {},
   "outputs": [],
   "source": [
    "y=df1[\"NewParentschoolSatisfaction\"]\n",
    "X=df1.drop(columns=[\"NewParentschoolSatisfaction\"])"
   ]
  },
  {
   "cell_type": "code",
   "execution_count": 147,
   "id": "3a66a925",
   "metadata": {},
   "outputs": [],
   "source": [
    "x_train, x_test, y_train, y_test=train_test_split(X,y, test_size=0.25, random_state=8)\n",
    "\n",
    "logr = LogisticRegression(random_state=88)"
   ]
  },
  {
   "cell_type": "code",
   "execution_count": 148,
   "id": "6593c564",
   "metadata": {},
   "outputs": [
    {
     "name": "stdout",
     "output_type": "stream",
     "text": [
      "<class 'pandas.core.frame.DataFrame'>\n",
      "Int64Index: 360 entries, 479 to 451\n",
      "Data columns (total 53 columns):\n",
      " #   Column                      Non-Null Count  Dtype\n",
      "---  ------                      --------------  -----\n",
      " 0   raisedhands                 360 non-null    int64\n",
      " 1   VisITedResources            360 non-null    int64\n",
      " 2   AnnouncementsView           360 non-null    int64\n",
      " 3   Discussion                  360 non-null    int64\n",
      " 4   gender_M                    360 non-null    uint8\n",
      " 5   NationalITy_Iran            360 non-null    uint8\n",
      " 6   NationalITy_Iraq            360 non-null    uint8\n",
      " 7   NationalITy_Jordan          360 non-null    uint8\n",
      " 8   NationalITy_KW              360 non-null    uint8\n",
      " 9   NationalITy_Lybia           360 non-null    uint8\n",
      " 10  NationalITy_Morocco         360 non-null    uint8\n",
      " 11  NationalITy_Palestine       360 non-null    uint8\n",
      " 12  NationalITy_SaudiArabia     360 non-null    uint8\n",
      " 13  NationalITy_Syria           360 non-null    uint8\n",
      " 14  NationalITy_Tunis           360 non-null    uint8\n",
      " 15  NationalITy_USA             360 non-null    uint8\n",
      " 16  NationalITy_lebanon         360 non-null    uint8\n",
      " 17  NationalITy_venzuela        360 non-null    uint8\n",
      " 18  PlaceofBirth_Iran           360 non-null    uint8\n",
      " 19  PlaceofBirth_Iraq           360 non-null    uint8\n",
      " 20  PlaceofBirth_Jordan         360 non-null    uint8\n",
      " 21  PlaceofBirth_KuwaIT         360 non-null    uint8\n",
      " 22  PlaceofBirth_Lybia          360 non-null    uint8\n",
      " 23  PlaceofBirth_Morocco        360 non-null    uint8\n",
      " 24  PlaceofBirth_Palestine      360 non-null    uint8\n",
      " 25  PlaceofBirth_SaudiArabia    360 non-null    uint8\n",
      " 26  PlaceofBirth_Syria          360 non-null    uint8\n",
      " 27  PlaceofBirth_Tunis          360 non-null    uint8\n",
      " 28  PlaceofBirth_USA            360 non-null    uint8\n",
      " 29  PlaceofBirth_lebanon        360 non-null    uint8\n",
      " 30  PlaceofBirth_venzuela       360 non-null    uint8\n",
      " 31  StageID_MiddleSchool        360 non-null    uint8\n",
      " 32  StageID_lowerlevel          360 non-null    uint8\n",
      " 33  SectionID_B                 360 non-null    uint8\n",
      " 34  SectionID_C                 360 non-null    uint8\n",
      " 35  Topic_Biology               360 non-null    uint8\n",
      " 36  Topic_Chemistry             360 non-null    uint8\n",
      " 37  Topic_English               360 non-null    uint8\n",
      " 38  Topic_French                360 non-null    uint8\n",
      " 39  Topic_Geology               360 non-null    uint8\n",
      " 40  Topic_History               360 non-null    uint8\n",
      " 41  Topic_IT                    360 non-null    uint8\n",
      " 42  Topic_Math                  360 non-null    uint8\n",
      " 43  Topic_Quran                 360 non-null    uint8\n",
      " 44  Topic_Science               360 non-null    uint8\n",
      " 45  Topic_Spanish               360 non-null    uint8\n",
      " 46  Semester_S                  360 non-null    uint8\n",
      " 47  Relation_Mum                360 non-null    uint8\n",
      " 48  ParentAnsweringSurvey_Yes   360 non-null    uint8\n",
      " 49  StudentAbsenceDays_Under-7  360 non-null    uint8\n",
      " 50  StudentAbsenceDays_Under-7  360 non-null    uint8\n",
      " 51  Class_L                     360 non-null    uint8\n",
      " 52  Class_M                     360 non-null    uint8\n",
      "dtypes: int64(4), uint8(49)\n",
      "memory usage: 31.3 KB\n",
      "<class 'pandas.core.frame.DataFrame'>\n",
      "Int64Index: 120 entries, 478 to 30\n",
      "Data columns (total 53 columns):\n",
      " #   Column                      Non-Null Count  Dtype\n",
      "---  ------                      --------------  -----\n",
      " 0   raisedhands                 120 non-null    int64\n",
      " 1   VisITedResources            120 non-null    int64\n",
      " 2   AnnouncementsView           120 non-null    int64\n",
      " 3   Discussion                  120 non-null    int64\n",
      " 4   gender_M                    120 non-null    uint8\n",
      " 5   NationalITy_Iran            120 non-null    uint8\n",
      " 6   NationalITy_Iraq            120 non-null    uint8\n",
      " 7   NationalITy_Jordan          120 non-null    uint8\n",
      " 8   NationalITy_KW              120 non-null    uint8\n",
      " 9   NationalITy_Lybia           120 non-null    uint8\n",
      " 10  NationalITy_Morocco         120 non-null    uint8\n",
      " 11  NationalITy_Palestine       120 non-null    uint8\n",
      " 12  NationalITy_SaudiArabia     120 non-null    uint8\n",
      " 13  NationalITy_Syria           120 non-null    uint8\n",
      " 14  NationalITy_Tunis           120 non-null    uint8\n",
      " 15  NationalITy_USA             120 non-null    uint8\n",
      " 16  NationalITy_lebanon         120 non-null    uint8\n",
      " 17  NationalITy_venzuela        120 non-null    uint8\n",
      " 18  PlaceofBirth_Iran           120 non-null    uint8\n",
      " 19  PlaceofBirth_Iraq           120 non-null    uint8\n",
      " 20  PlaceofBirth_Jordan         120 non-null    uint8\n",
      " 21  PlaceofBirth_KuwaIT         120 non-null    uint8\n",
      " 22  PlaceofBirth_Lybia          120 non-null    uint8\n",
      " 23  PlaceofBirth_Morocco        120 non-null    uint8\n",
      " 24  PlaceofBirth_Palestine      120 non-null    uint8\n",
      " 25  PlaceofBirth_SaudiArabia    120 non-null    uint8\n",
      " 26  PlaceofBirth_Syria          120 non-null    uint8\n",
      " 27  PlaceofBirth_Tunis          120 non-null    uint8\n",
      " 28  PlaceofBirth_USA            120 non-null    uint8\n",
      " 29  PlaceofBirth_lebanon        120 non-null    uint8\n",
      " 30  PlaceofBirth_venzuela       120 non-null    uint8\n",
      " 31  StageID_MiddleSchool        120 non-null    uint8\n",
      " 32  StageID_lowerlevel          120 non-null    uint8\n",
      " 33  SectionID_B                 120 non-null    uint8\n",
      " 34  SectionID_C                 120 non-null    uint8\n",
      " 35  Topic_Biology               120 non-null    uint8\n",
      " 36  Topic_Chemistry             120 non-null    uint8\n",
      " 37  Topic_English               120 non-null    uint8\n",
      " 38  Topic_French                120 non-null    uint8\n",
      " 39  Topic_Geology               120 non-null    uint8\n",
      " 40  Topic_History               120 non-null    uint8\n",
      " 41  Topic_IT                    120 non-null    uint8\n",
      " 42  Topic_Math                  120 non-null    uint8\n",
      " 43  Topic_Quran                 120 non-null    uint8\n",
      " 44  Topic_Science               120 non-null    uint8\n",
      " 45  Topic_Spanish               120 non-null    uint8\n",
      " 46  Semester_S                  120 non-null    uint8\n",
      " 47  Relation_Mum                120 non-null    uint8\n",
      " 48  ParentAnsweringSurvey_Yes   120 non-null    uint8\n",
      " 49  StudentAbsenceDays_Under-7  120 non-null    uint8\n",
      " 50  StudentAbsenceDays_Under-7  120 non-null    uint8\n",
      " 51  Class_L                     120 non-null    uint8\n",
      " 52  Class_M                     120 non-null    uint8\n",
      "dtypes: int64(4), uint8(49)\n",
      "memory usage: 10.4 KB\n",
      "None None\n"
     ]
    }
   ],
   "source": [
    "print(x_train.info(), x_test.info())   # train-360  test-120"
   ]
  },
  {
   "cell_type": "code",
   "execution_count": 149,
   "id": "3e705680",
   "metadata": {},
   "outputs": [
    {
     "name": "stderr",
     "output_type": "stream",
     "text": [
      "C:\\Users\\ambar\\anaconda3\\lib\\site-packages\\sklearn\\linear_model\\_logistic.py:763: ConvergenceWarning: lbfgs failed to converge (status=1):\n",
      "STOP: TOTAL NO. of ITERATIONS REACHED LIMIT.\n",
      "\n",
      "Increase the number of iterations (max_iter) or scale the data as shown in:\n",
      "    https://scikit-learn.org/stable/modules/preprocessing.html\n",
      "Please also refer to the documentation for alternative solver options:\n",
      "    https://scikit-learn.org/stable/modules/linear_model.html#logistic-regression\n",
      "  n_iter_i = _check_optimize_result(\n"
     ]
    },
    {
     "data": {
      "text/plain": [
       "LogisticRegression(random_state=88)"
      ]
     },
     "execution_count": 149,
     "metadata": {},
     "output_type": "execute_result"
    }
   ],
   "source": [
    "logr.fit(x_train, y_train)"
   ]
  },
  {
   "cell_type": "code",
   "execution_count": 150,
   "id": "e2b47dc8",
   "metadata": {},
   "outputs": [
    {
     "name": "stdout",
     "output_type": "stream",
     "text": [
      "Train Accuracy 0.8277777777777777\n",
      "Test Accuracy 0.8\n"
     ]
    }
   ],
   "source": [
    "print(\"Train Accuracy\", logr.score(x_train, y_train))\n",
    "\n",
    "print(\"Test Accuracy\", logr.score(x_test, y_test))"
   ]
  },
  {
   "cell_type": "code",
   "execution_count": 151,
   "id": "79dcf531",
   "metadata": {},
   "outputs": [],
   "source": [
    "pred_y_train=logr.predict(x_train)  \n",
    "\n",
    "pred_y_test=logr.predict(x_test) \n"
   ]
  },
  {
   "cell_type": "code",
   "execution_count": 152,
   "id": "796efd22",
   "metadata": {},
   "outputs": [
    {
     "data": {
      "text/plain": [
       "'              precision    recall  f1-score   support\\n\\n           0       0.80      0.72      0.76       135\\n           1       0.84      0.89      0.87       225\\n\\n    accuracy                           0.83       360\\n   macro avg       0.82      0.81      0.81       360\\nweighted avg       0.83      0.83      0.83       360\\n'"
      ]
     },
     "execution_count": 152,
     "metadata": {},
     "output_type": "execute_result"
    }
   ],
   "source": [
    "metrics.classification_report(y_train, pred_y_train)"
   ]
  },
  {
   "cell_type": "code",
   "execution_count": 153,
   "id": "f9a5d101",
   "metadata": {},
   "outputs": [
    {
     "name": "stdout",
     "output_type": "stream",
     "text": [
      "              precision    recall  f1-score   support\n",
      "\n",
      "           0       0.77      0.77      0.77        53\n",
      "           1       0.82      0.82      0.82        67\n",
      "\n",
      "    accuracy                           0.80       120\n",
      "   macro avg       0.80      0.80      0.80       120\n",
      "weighted avg       0.80      0.80      0.80       120\n",
      "\n"
     ]
    }
   ],
   "source": [
    "print(metrics.classification_report(y_test, pred_y_test))"
   ]
  },
  {
   "cell_type": "code",
   "execution_count": 154,
   "id": "fee550df",
   "metadata": {},
   "outputs": [],
   "source": [
    "    # 0        0.80      0.72      0.76       135    # train data clasification\n",
    "    # 1        0.84      0.89      0.87       225"
   ]
  },
  {
   "cell_type": "code",
   "execution_count": 155,
   "id": "f1f22801",
   "metadata": {},
   "outputs": [],
   "source": [
    "def profile_decile(X,y,trained_model):    # trained model is the one that we have created \n",
    "    X_1=X.copy()\n",
    "    y_1=y.copy()\n",
    "    y_pred1=trained_model.predict(X_1)   # it will predict from the model \n",
    "    X_1[\"Prob_Event\"]=trained_model.predict_proba(X_1)[:,1]  # then it will calculate the probability of the predicted model\n",
    "    X_1[\"Y_actual\"]=y_1       # it is the actual value\n",
    "    X_1[\"Y_pred\"]=y_pred1     # it is the predicted value\n",
    "    \n",
    "# decile analysis/ decile creation from the probability\n",
    "    X_1[\"Rank\"]=pd.qcut(X_1[\"Prob_Event\"], 10, labels=np.arange(0,10,1))   \n",
    "    X_1[\"numb\"]=10\n",
    "    X_1[\"Decile\"]=X_1[\"numb\"]-X_1[\"Rank\"].astype(\"int\")   \n",
    "\n",
    "# group by summary\n",
    "    profile=pd.DataFrame(X_1.groupby(\"Decile\") \\\n",
    "                        .apply(lambda x: pd.Series({\n",
    "        'min_score'   : x[\"Prob_Event\"].min(),\n",
    "        'max_score'   : x[\"Prob_Event\"].max(),\n",
    "        'Event'       : x[\"Y_actual\"].sum(),\n",
    "        'Non_event'   : x[\"Y_actual\"].count()-x[\"Y_actual\"].sum(),\n",
    "        'Total'       : x[\"Y_actual\"].count() })))\n",
    "    return profile"
   ]
  },
  {
   "cell_type": "code",
   "execution_count": 156,
   "id": "ab0cc028",
   "metadata": {},
   "outputs": [
    {
     "data": {
      "text/plain": [
       "array([[ 97,  38],\n",
       "       [ 24, 201]], dtype=int64)"
      ]
     },
     "execution_count": 156,
     "metadata": {},
     "output_type": "execute_result"
    }
   ],
   "source": [
    "metrics.confusion_matrix(y_train, pred_y_train)"
   ]
  },
  {
   "cell_type": "code",
   "execution_count": 157,
   "id": "3592f408",
   "metadata": {},
   "outputs": [
    {
     "name": "stdout",
     "output_type": "stream",
     "text": [
      "TPr 0.8933333333333333\n",
      "FPr 0.10666666666666667\n"
     ]
    }
   ],
   "source": [
    "tot= 201+24\n",
    "print(\"TPr\", (201/(tot)))\n",
    "print(\"FPr\", (24/(tot)))"
   ]
  },
  {
   "cell_type": "code",
   "execution_count": 158,
   "id": "30ee26b5",
   "metadata": {},
   "outputs": [
    {
     "data": {
      "image/png": "[encoded data removed]",
      "text/plain": [
       "<Figure size 792x576 with 1 Axes>"
      ]
     },
     "metadata": {},
     "output_type": "display_data"
    }
   ],
   "source": [
    "# ROC - Reciever Operator Characterstics\n",
    "probs=logr.predict_proba(x_train)[:,1]\n",
    "\n",
    "fpr, tpr, threshold=metrics.roc_curve(y_train,probs )\n",
    "plt.plot([0,1],[0,1],'k--')\n",
    "\n",
    "plt.plot(fpr,tpr, label='logisticRegression')\n",
    "\n",
    "plt.title(\"Reciever Operator Characterstics\")\n",
    "plt.xlabel('fpr')\n",
    "plt.ylabel('tpr')\n",
    "plt.show()"
   ]
  },
  {
   "cell_type": "code",
   "execution_count": 159,
   "id": "3c8016f3",
   "metadata": {},
   "outputs": [
    {
     "data": {
      "text/plain": [
       "0.8944855967078189"
      ]
     },
     "execution_count": 159,
     "metadata": {},
     "output_type": "execute_result"
    }
   ],
   "source": [
    "metrics.roc_auc_score(y_train,probs)"
   ]
  },
  {
   "cell_type": "markdown",
   "id": "2d7d6c6e",
   "metadata": {},
   "source": [
    "# Q.4-From-the-above-result,-what-are-the-factors-that-leads-to-get-low-grades-of-the-students?"
   ]
  },
  {
   "cell_type": "markdown",
   "id": "d63bc404",
   "metadata": {},
   "source": [
    "# for this we use vif\n"
   ]
  },
  {
   "cell_type": "code",
   "execution_count": 160,
   "id": "54588c15",
   "metadata": {},
   "outputs": [
    {
     "data": {
      "text/plain": [
       "Index(['raisedhands', 'VisITedResources', 'AnnouncementsView', 'Discussion',\n",
       "       'gender_M', 'NationalITy_Iran', 'NationalITy_Iraq',\n",
       "       'NationalITy_Jordan', 'NationalITy_KW', 'NationalITy_Lybia',\n",
       "       'NationalITy_Morocco', 'NationalITy_Palestine',\n",
       "       'NationalITy_SaudiArabia', 'NationalITy_Syria', 'NationalITy_Tunis',\n",
       "       'NationalITy_USA', 'NationalITy_lebanon', 'NationalITy_venzuela',\n",
       "       'PlaceofBirth_Iran', 'PlaceofBirth_Iraq', 'PlaceofBirth_Jordan',\n",
       "       'PlaceofBirth_KuwaIT', 'PlaceofBirth_Lybia', 'PlaceofBirth_Morocco',\n",
       "       'PlaceofBirth_Palestine', 'PlaceofBirth_SaudiArabia',\n",
       "       'PlaceofBirth_Syria', 'PlaceofBirth_Tunis', 'PlaceofBirth_USA',\n",
       "       'PlaceofBirth_lebanon', 'PlaceofBirth_venzuela', 'StageID_MiddleSchool',\n",
       "       'StageID_lowerlevel', 'SectionID_B', 'SectionID_C', 'Topic_Biology',\n",
       "       'Topic_Chemistry', 'Topic_English', 'Topic_French', 'Topic_Geology',\n",
       "       'Topic_History', 'Topic_IT', 'Topic_Math', 'Topic_Quran',\n",
       "       'Topic_Science', 'Topic_Spanish', 'Semester_S', 'Relation_Mum',\n",
       "       'ParentAnsweringSurvey_Yes', 'StudentAbsenceDays_Under-7',\n",
       "       'StudentAbsenceDays_Under-7', 'Class_L', 'Class_M'],\n",
       "      dtype='object')"
      ]
     },
     "execution_count": 160,
     "metadata": {},
     "output_type": "execute_result"
    }
   ],
   "source": [
    "x_train.columns"
   ]
  },
  {
   "cell_type": "code",
   "execution_count": 161,
   "id": "98d34308",
   "metadata": {},
   "outputs": [],
   "source": [
    "df2=df1.drop(columns=[\"NewParentschoolSatisfaction\"])"
   ]
  },
  {
   "cell_type": "code",
   "execution_count": 162,
   "id": "b9aab067",
   "metadata": {},
   "outputs": [],
   "source": [
    "from statsmodels.stats.outliers_influence import variance_inflation_factor"
   ]
  },
  {
   "cell_type": "code",
   "execution_count": 164,
   "id": "e1553f18",
   "metadata": {},
   "outputs": [
    {
     "data": {
      "text/html": [
       "<div>\n",
       "<style scoped>\n",
       "    .dataframe tbody tr th:only-of-type {\n",
       "        vertical-align: middle;\n",
       "    }\n",
       "\n",
       "    .dataframe tbody tr th {\n",
       "        vertical-align: top;\n",
       "    }\n",
       "\n",
       "    .dataframe thead th {\n",
       "        text-align: right;\n",
       "    }\n",
       "</style>\n",
       "<table border=\"1\" class=\"dataframe\">\n",
       "  <thead>\n",
       "    <tr style=\"text-align: right;\">\n",
       "      <th></th>\n",
       "      <th>vif_value</th>\n",
       "      <th>features</th>\n",
       "    </tr>\n",
       "  </thead>\n",
       "  <tbody>\n",
       "    <tr>\n",
       "      <th>0</th>\n",
       "      <td>7.624493</td>\n",
       "      <td>raisedhands</td>\n",
       "    </tr>\n",
       "    <tr>\n",
       "      <th>1</th>\n",
       "      <td>6.893179</td>\n",
       "      <td>VisITedResources</td>\n",
       "    </tr>\n",
       "    <tr>\n",
       "      <th>2</th>\n",
       "      <td>6.075343</td>\n",
       "      <td>AnnouncementsView</td>\n",
       "    </tr>\n",
       "    <tr>\n",
       "      <th>3</th>\n",
       "      <td>3.365527</td>\n",
       "      <td>Discussion</td>\n",
       "    </tr>\n",
       "  </tbody>\n",
       "</table>\n",
       "</div>"
      ],
      "text/plain": [
       "   vif_value           features\n",
       "0   7.624493        raisedhands\n",
       "1   6.893179   VisITedResources\n",
       "2   6.075343  AnnouncementsView\n",
       "3   3.365527         Discussion"
      ]
     },
     "execution_count": 164,
     "metadata": {},
     "output_type": "execute_result"
    }
   ],
   "source": [
    "y=df1[\"NewParentschoolSatisfaction\"]\n",
    "\n",
    "X=df1[[\"raisedhands\" ,\"VisITedResources\", \"AnnouncementsView\" ,\"Discussion\"]]\n",
    "\n",
    "vif = pd.DataFrame()\n",
    "\n",
    "vif['vif_value'] = [variance_inflation_factor(X.values, i) for i in range(X.shape[1])]\n",
    "vif[\"features\"] = X.columns\n",
    "\n",
    "vif.sort_values('vif_value', ascending=False)"
   ]
  },
  {
   "cell_type": "code",
   "execution_count": null,
   "id": "24a8cf6e",
   "metadata": {},
   "outputs": [],
   "source": []
  }
 ],
 "metadata": {
  "kernelspec": {
   "display_name": "Python 3 (ipykernel)",
   "language": "python",
   "name": "python3"
  },
  "language_info": {
   "codemirror_mode": {
    "name": "ipython",
    "version": 3
   },
   "file_extension": ".py",
   "mimetype": "text/x-python",
   "name": "python",
   "nbconvert_exporter": "python",
   "pygments_lexer": "ipython3",
   "version": "3.9.7"
  }
 },
 "nbformat": 4,
 "nbformat_minor": 5
}
