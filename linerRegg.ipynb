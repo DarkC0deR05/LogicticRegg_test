{
 "cells": [
  {
   "cell_type": "code",
   "execution_count": null,
   "id": "b2887482",
   "metadata": {},
   "outputs": [],
   "source": [
    "import os\n",
    "import pandas as pd\n",
    "import numpy as np\n",
    "import matplotlib.pyplot as plt\n",
    "import seaborn as sns\n",
    "%matplotlib inline\n"
   ]
  },
  {
   "cell_type": "code",
   "execution_count": null,
   "id": "8a9739c7",
   "metadata": {},
   "outputs": [],
   "source": [
    "cars= pd.read_csv('D:\\Imarticus\\ML\\car_done.csv')"
   ]
  },
  {
   "cell_type": "code",
   "execution_count": null,
   "id": "e1c212f5",
   "metadata": {},
   "outputs": [],
   "source": [
    "cars.describe().T"
   ]
  },
  {
   "cell_type": "code",
   "execution_count": null,
   "id": "ccc1d427",
   "metadata": {},
   "outputs": [],
   "source": [
    "os.getcwd()"
   ]
  },
  {
   "cell_type": "code",
   "execution_count": null,
   "id": "ca2a4a3e",
   "metadata": {},
   "outputs": [],
   "source": [
    "os.chdir(r'D:\\Imarticus\\ML')"
   ]
  },
  {
   "cell_type": "code",
   "execution_count": null,
   "id": "7e2167da",
   "metadata": {},
   "outputs": [],
   "source": [
    "os.listdir()"
   ]
  },
  {
   "cell_type": "code",
   "execution_count": null,
   "id": "f6769064",
   "metadata": {},
   "outputs": [],
   "source": [
    "cars.describe()"
   ]
  },
  {
   "cell_type": "code",
   "execution_count": null,
   "id": "4daa055f",
   "metadata": {},
   "outputs": [],
   "source": [
    "cars.info()"
   ]
  },
  {
   "cell_type": "code",
   "execution_count": null,
   "id": "967a2a84",
   "metadata": {},
   "outputs": [],
   "source": [
    "cars.dtypes.value_counts()\n",
    "\n",
    "# now we will 1st analise the object type columns"
   ]
  },
  {
   "cell_type": "code",
   "execution_count": null,
   "id": "bf3dbcd5",
   "metadata": {},
   "outputs": [],
   "source": [
    "sns.scatterplot(cars['Sales_in_thousands'] , cars['Price_in_thousands'])"
   ]
  },
  {
   "cell_type": "code",
   "execution_count": null,
   "id": "1c1c42d9",
   "metadata": {},
   "outputs": [],
   "source": [
    "cars['Manufacturer'].value_counts()\n",
    "\n",
    "#2 modes so therefore Bimodel"
   ]
  },
  {
   "cell_type": "code",
   "execution_count": null,
   "id": "b3b2499b",
   "metadata": {},
   "outputs": [],
   "source": [
    "cars['Manufacturer'].unique()"
   ]
  },
  {
   "cell_type": "code",
   "execution_count": null,
   "id": "5b534331",
   "metadata": {},
   "outputs": [],
   "source": [
    "cars['Manufacturer'].nunique()\n",
    "# so much variable but none of it is significant so we are dropping this column"
   ]
  },
  {
   "cell_type": "code",
   "execution_count": null,
   "id": "4c7a75a4",
   "metadata": {},
   "outputs": [],
   "source": [
    "cars.drop(columns=['Manufacturer'] ,axis=1 ,inplace=True)"
   ]
  },
  {
   "cell_type": "code",
   "execution_count": null,
   "id": "06441249",
   "metadata": {},
   "outputs": [],
   "source": [
    "cars['Vehicle_type'].unique()"
   ]
  },
  {
   "cell_type": "code",
   "execution_count": null,
   "id": "0595d982",
   "metadata": {},
   "outputs": [],
   "source": [
    "cars.drop(columns=['Unnamed: 0'] ,axis=1 ,inplace=True)"
   ]
  },
  {
   "cell_type": "code",
   "execution_count": null,
   "id": "4d056b47",
   "metadata": {},
   "outputs": [],
   "source": [
    "cars.head()"
   ]
  },
  {
   "cell_type": "code",
   "execution_count": null,
   "id": "dfbe241a",
   "metadata": {},
   "outputs": [],
   "source": [
    "cars.drop(columns = 'Model',inplace=True)\n"
   ]
  },
  {
   "cell_type": "code",
   "execution_count": null,
   "id": "84ae6e1d",
   "metadata": {},
   "outputs": [],
   "source": [
    "cars.head()"
   ]
  },
  {
   "cell_type": "code",
   "execution_count": null,
   "id": "8a6aa820",
   "metadata": {},
   "outputs": [],
   "source": [
    "cars.drop(columns='Unnamed: 0',axis=1 , inplace=True)\n",
    "cars.head()"
   ]
  },
  {
   "cell_type": "code",
   "execution_count": null,
   "id": "0780c7a8",
   "metadata": {},
   "outputs": [],
   "source": [
    "cars.dtypes[cars.dtypes=='object']"
   ]
  },
  {
   "cell_type": "code",
   "execution_count": null,
   "id": "28b9741e",
   "metadata": {},
   "outputs": [],
   "source": [
    "cars.Vehicle_type.value_counts()"
   ]
  },
  {
   "cell_type": "code",
   "execution_count": null,
   "id": "db737116",
   "metadata": {},
   "outputs": [],
   "source": [
    "cars['date']=pd.to_datetime(cars['Latest_Launch'])"
   ]
  },
  {
   "cell_type": "code",
   "execution_count": null,
   "id": "7af7b711",
   "metadata": {},
   "outputs": [],
   "source": [
    "cars.drop(['Latest_Launch'], axis=1 , inplace=True)"
   ]
  },
  {
   "cell_type": "code",
   "execution_count": null,
   "id": "ea42f6d7",
   "metadata": {},
   "outputs": [],
   "source": [
    "cars.head()"
   ]
  },
  {
   "cell_type": "code",
   "execution_count": null,
   "id": "5247959f",
   "metadata": {},
   "outputs": [],
   "source": []
  },
  {
   "cell_type": "markdown",
   "id": "dcab2fe3",
   "metadata": {},
   "source": [
    "# Watching data again "
   ]
  },
  {
   "cell_type": "code",
   "execution_count": null,
   "id": "b2d3da44",
   "metadata": {},
   "outputs": [],
   "source": [
    "cars.describe(percentiles = [0.01,0.02,0.03,0.04,0.05,0.1,0.15,0.25,0.50,0.75,0.9,0.95,0.98,0.99]).T"
   ]
  },
  {
   "cell_type": "code",
   "execution_count": null,
   "id": "8a6e7c13",
   "metadata": {},
   "outputs": [],
   "source": [
    "cars.groupby(['Vehicle_type'])['Sales_in_thousands'].mean()"
   ]
  },
  {
   "cell_type": "code",
   "execution_count": null,
   "id": "301f049a",
   "metadata": {},
   "outputs": [],
   "source": [
    "cars.groupby(['Vehicle_type'])['Sales_in_thousands'].mean().plot(kind = 'bar')"
   ]
  },
  {
   "cell_type": "code",
   "execution_count": null,
   "id": "1eca0f59",
   "metadata": {},
   "outputs": [],
   "source": [
    "cars.groupby(['Vehicle_type']).agg({'Sales_in_thousands' : [\"min\" ,'max'],\n",
    "                                    'Price_in_thousands' : ['min' , 'max']})"
   ]
  },
  {
   "cell_type": "code",
   "execution_count": null,
   "id": "50596bb7",
   "metadata": {},
   "outputs": [],
   "source": [
    "s1 =  cars[cars['Vehicle_type']=='Car']\n",
    "s2 =  cars[cars['Vehicle_type']!='Car']"
   ]
  },
  {
   "cell_type": "code",
   "execution_count": null,
   "id": "b84c2b54",
   "metadata": {},
   "outputs": [],
   "source": [
    "# Ho = Avg sales of car = avg sale of passenger\n",
    "# Ha = Avg sales of car != avg sales of passenger\n",
    "# Test : Two sample /Independent Sample Test\n",
    "# CI and alpha = 95% and 5%\n",
    "#  Decision Rule : if p>= alpha : we fail to reject null hypothesis\n",
    "#                : if p< alpha : we acpt null Hypothesis"
   ]
  },
  {
   "cell_type": "code",
   "execution_count": null,
   "id": "6725429d",
   "metadata": {},
   "outputs": [],
   "source": [
    "stats.ttest_ind(s1['Sales_in_thousands'] , s2['Sales_in_thousands'])"
   ]
  },
  {
   "cell_type": "code",
   "execution_count": null,
   "id": "baececd5",
   "metadata": {},
   "outputs": [],
   "source": [
    "cars."
   ]
  },
  {
   "cell_type": "code",
   "execution_count": null,
   "id": "7b06ab2a",
   "metadata": {},
   "outputs": [],
   "source": [
    "plt.scatter(cars['Price_in_thousands'] , cars['Sales_in_thousands'])\n",
    "plt.xlabel(\"Price_in_thousands\")\n",
    "plt.ylabel(\"Sales\")\n",
    "plt.show()"
   ]
  },
  {
   "cell_type": "code",
   "execution_count": null,
   "id": "f1693fc0",
   "metadata": {},
   "outputs": [],
   "source": [
    "plt.scatter(cars['four_year_resale_value'] , cars['Price_in_thousands'])\n",
    "plt.xlabel(\"four_year_resale_value\")\n",
    "plt.ylabel(\"Sales\")\n",
    "plt.show()"
   ]
  },
  {
   "cell_type": "code",
   "execution_count": null,
   "id": "842e94d7",
   "metadata": {},
   "outputs": [],
   "source": [
    "sns.pairplot(cars)\n",
    "plt.show()"
   ]
  },
  {
   "cell_type": "markdown",
   "id": "569cfeb9",
   "metadata": {},
   "source": [
    "# Cleaning of data"
   ]
  },
  {
   "cell_type": "code",
   "execution_count": null,
   "id": "3e71d052",
   "metadata": {},
   "outputs": [],
   "source": [
    "cars.isnull().sum().sort_values(ascending=False)"
   ]
  },
  {
   "cell_type": "code",
   "execution_count": null,
   "id": "f225e4cd",
   "metadata": {},
   "outputs": [],
   "source": [
    "# ther are 3 typers of missing values\n",
    "# missing values at complete random\n",
    "# missing values at  random\n",
    "# missing values at not at random"
   ]
  },
  {
   "cell_type": "code",
   "execution_count": null,
   "id": "e5340aff",
   "metadata": {},
   "outputs": [],
   "source": [
    "# Now we treat null values \n",
    "#there are only 2 methods  :- 1 Drop\n",
    "#                             2 imputation/capping\n",
    "\n",
    "#we dont drop   we do centrasl value imputations( mean mode median)\n",
    "\n",
    "     # mean when continuous -- but mean is effected by outlier, so if you want to use mean , do treatment of outlier beforehand\n",
    "     # median when continuous/Discrete\n",
    "     # mode when catagorical\n",
    "    \n",
    "#Other way is that we can fill an arbitary value  like --- unknown/ others\n",
    "# or fill previous/forward value\n",
    "\n",
    "#model development for missing values-- KNN already develope model"
   ]
  },
  {
   "cell_type": "code",
   "execution_count": null,
   "id": "216e3118",
   "metadata": {},
   "outputs": [],
   "source": [
    "cars.fillna(cars.median(), inplace=True)"
   ]
  },
  {
   "cell_type": "code",
   "execution_count": null,
   "id": "6295659b",
   "metadata": {},
   "outputs": [],
   "source": [
    "#check\n",
    "cars.isnull().sum()"
   ]
  },
  {
   "cell_type": "markdown",
   "id": "d6ec9976",
   "metadata": {},
   "source": [
    "# Outlier Treatment"
   ]
  },
  {
   "cell_type": "code",
   "execution_count": null,
   "id": "c5397c94",
   "metadata": {},
   "outputs": [],
   "source": [
    "# first we hard code- but not good so\n",
    "# 1 - percentile abse - tuckey method  lower = q1- 1.5iqr\n",
    "                            #          upper = q3+ 1.5iqr\n",
    "\n",
    "# z score or standardazation  z = mean +- 2Std (+ for upper and - for lower)   \n",
    "#    if we can can present data as normal distrubution\n",
    "\n",
    "\n",
    "# now treatment starts\n",
    "# drop whole column which is wrong.. \n",
    "# so we are caping .. ie if any value is greater than upper limit then we replace it with upper value \n",
    "# and same goes for lower values"
   ]
  },
  {
   "cell_type": "code",
   "execution_count": null,
   "id": "3e0a10d9",
   "metadata": {},
   "outputs": [],
   "source": [
    "# Hard coding\n",
    "cars['Sales_in_thousands'] = np.where(cars['Sales_in_thousands']>=244 , 244 ,cars['Sales_in_thousands'])"
   ]
  },
  {
   "cell_type": "code",
   "execution_count": null,
   "id": "d2cfd023",
   "metadata": {},
   "outputs": [],
   "source": [
    "# using inbuild function\n",
    "cars_modified2= pd.get_dummies(cars , columns=['Vehicle_type'] , drop_first=True) # coumn vehicle type is dropped by default\n",
    "# to unpivot data we can use melt but you also have to Drop_first = False"
   ]
  },
  {
   "cell_type": "code",
   "execution_count": null,
   "id": "b6e2bee4",
   "metadata": {},
   "outputs": [],
   "source": [
    "cars_modified2.head()"
   ]
  },
  {
   "cell_type": "code",
   "execution_count": null,
   "id": "c5c4a04b",
   "metadata": {},
   "outputs": [],
   "source": []
  },
  {
   "cell_type": "code",
   "execution_count": null,
   "id": "8d5244d4",
   "metadata": {},
   "outputs": [],
   "source": []
  },
  {
   "cell_type": "markdown",
   "id": "c1adb0e5",
   "metadata": {},
   "source": [
    "# Assumption check"
   ]
  },
  {
   "cell_type": "code",
   "execution_count": null,
   "id": "6411a6a6",
   "metadata": {},
   "outputs": [],
   "source": [
    "sns.distplot(np.sqrt(cars_modified2['Sales_in_thousands']))"
   ]
  },
  {
   "cell_type": "code",
   "execution_count": null,
   "id": "8f45f979",
   "metadata": {},
   "outputs": [],
   "source": [
    "sns.distplot(np.log1p(cars_modified2['Sales_in_thousands']))"
   ]
  },
  {
   "cell_type": "code",
   "execution_count": null,
   "id": "e97d64c2",
   "metadata": {},
   "outputs": [],
   "source": [
    "from scipy import stats"
   ]
  },
  {
   "cell_type": "code",
   "execution_count": null,
   "id": "3d62a2b2",
   "metadata": {},
   "outputs": [],
   "source": [
    "stats.shapiro(cars_modified2['Sales_in_thousands'])"
   ]
  },
  {
   "cell_type": "code",
   "execution_count": null,
   "id": "e5e1b5fd",
   "metadata": {},
   "outputs": [],
   "source": [
    "stats.shapiro(np.sqrt(cars_modified2['Sales_in_thousands']))"
   ]
  },
  {
   "cell_type": "code",
   "execution_count": null,
   "id": "f99c2dee",
   "metadata": {},
   "outputs": [],
   "source": [
    "stats.shapiro(np.log1p(cars_modified2['Sales_in_thousands']))"
   ]
  },
  {
   "cell_type": "code",
   "execution_count": null,
   "id": "1b5c0fd0",
   "metadata": {},
   "outputs": [],
   "source": [
    "cr = cars_modified2.corr()\n",
    "cr.to_csv('cr.csv')\n",
    "sns.heatmap(cr , annot=True, )"
   ]
  },
  {
   "cell_type": "code",
   "execution_count": null,
   "id": "5573392d",
   "metadata": {},
   "outputs": [],
   "source": [
    " y = np.log1p(cars_modified2['Sales_in_thousands'])   # to make it normal distribution-2nd step use log\n",
    "x = cars_modified2.drop(columns='Sales_in_thousands')"
   ]
  },
  {
   "cell_type": "code",
   "execution_count": null,
   "id": "39ff27fe",
   "metadata": {},
   "outputs": [],
   "source": [
    "cars_modified2.to_csv('cars_modified.csv')"
   ]
  },
  {
   "cell_type": "code",
   "execution_count": null,
   "id": "8082dde4",
   "metadata": {},
   "outputs": [],
   "source": [
    "from sklearn.model_selection import train_test_split"
   ]
  },
  {
   "cell_type": "code",
   "execution_count": null,
   "id": "faeaae50",
   "metadata": {},
   "outputs": [],
   "source": [
    "x_train,x_test,y_train,y_test = train_test_split(x,y , test_size=0.25 , random_state=88  )\n",
    "x_train.head()"
   ]
  },
  {
   "cell_type": "code",
   "execution_count": null,
   "id": "b3639203",
   "metadata": {},
   "outputs": [],
   "source": [
    "import statsmodels.api as sm\n",
    "\n",
    "X = x_train[['four_year_resale_value',\n",
    "             'Price_in_thousands', \n",
    "             'Engine_size',\n",
    "           # 'Horsepower', \n",
    "             'Wheelbase', \n",
    "           # 'Width',\n",
    "           # 'Length', \n",
    "           # 'Curb weight',\n",
    "           # 'Fuel_capacity',\n",
    "             'Fuel_efficiency', \n",
    "         # 'Power_perf_factor',\n",
    "       'Vehicle_type_Passenger'\n",
    "        ]]\n",
    "\n",
    "Y = y_train\n",
    "\n",
    "X = sm.add_constant(X) # adding a constant\n",
    "\n",
    "\n",
    "\n",
    "model = sm.OLS(Y, X).fit()\n",
    "\n",
    "\n",
    "\n",
    "print(model.summary())\n",
    "# now we will focus on rsquare and adjusted r square and p value...\n",
    "# jitna r quare acha utna hamra model acha...\n",
    "# gap between rquare and adjusted r square should be less 2-3% only.. thats a good model\n",
    "# rsuare should be > 60% or 0.6\n",
    "# remove columns with high "
   ]
  },
  {
   "cell_type": "code",
   "execution_count": null,
   "id": "a8e9a9ee",
   "metadata": {},
   "outputs": [],
   "source": [
    "# liner reggersion\n",
    "# Null hypothersis : coeff of x1 = coeff of x2 = coeff of x3 .... =0  or y does not depend on x\n",
    "# alt hypo :at least one of coeff != 0"
   ]
  },
  {
   "cell_type": "code",
   "execution_count": null,
   "id": "ad7b6364",
   "metadata": {},
   "outputs": [],
   "source": [
    "\n",
    "predY = np.exp(x_train[\"Price_in_thousands\"]*(-0.0463) + x_train[\"Engine_size\"]*(0.3895) + x_train[\"Wheelbase\"]*(0.0501) + x_train[\"Fuel_efficiency\"]*(0.1332) + x_train[\"Vehicle_type_Passenger\"]*(-0.8553)-4.4517)-1\n",
    "# exp bcz we did log \n",
    "predY"
   ]
  },
  {
   "cell_type": "code",
   "execution_count": null,
   "id": "858cd558",
   "metadata": {},
   "outputs": [],
   "source": [
    "actY= np.expm1(x_train)\n",
    "actY"
   ]
  },
  {
   "cell_type": "code",
   "execution_count": null,
   "id": "869208da",
   "metadata": {},
   "outputs": [],
   "source": [
    "#Evaluation of model\n",
    "\n",
    "print('MSE = ', np.mean(predY - actY)**2)\n",
    "\n",
    "print('rmse =' ,np.sqrt( np.mean(predY - actY)**2) )\n",
    "print('Mean Absolute error = ' , np.mean(abs(predY)))\n",
    "print('MAPS mean absolute percentage error = ', np.mean(abs((actY-predY)/actY)))"
   ]
  },
  {
   "cell_type": "code",
   "execution_count": null,
   "id": "e3c8a68a",
   "metadata": {},
   "outputs": [],
   "source": [
    "col_selected=['Price_in_thousands', 'Engine_size','Wheelbase', 'Fuel_efficiency','Vehicle_type_Passenger']\n",
    "y_train1=y_train[col_selected]\n",
    "y = sm.add_constant(y_train1)"
   ]
  },
  {
   "cell_type": "code",
   "execution_count": null,
   "id": "85f110ba",
   "metadata": {},
   "outputs": [],
   "source": [
    "predYtrain= np.expm1(model.predict(x))"
   ]
  },
  {
   "cell_type": "code",
   "execution_count": null,
   "id": "f855ba24",
   "metadata": {
    "scrolled": true
   },
   "outputs": [],
   "source": [
    "actYTrain=np.expm1(y_train)\n",
    "actYTrain"
   ]
  },
  {
   "cell_type": "markdown",
   "id": "a7d046f4",
   "metadata": {},
   "source": [
    "# linear Regg based on sklearn... "
   ]
  },
  {
   "cell_type": "code",
   "execution_count": 1,
   "id": "8dd9decd",
   "metadata": {},
   "outputs": [],
   "source": [
    "import os\n",
    "import pandas as pd\n",
    "import numpy as np\n",
    "import matplotlib.pyplot as plt\n",
    "import seaborn as sns\n",
    "%matplotlib inline\n"
   ]
  },
  {
   "cell_type": "code",
   "execution_count": 2,
   "id": "9fd31d46",
   "metadata": {},
   "outputs": [],
   "source": [
    "os.chdir(r'D:\\Imarticus\\ML')"
   ]
  },
  {
   "cell_type": "code",
   "execution_count": 3,
   "id": "d716f076",
   "metadata": {},
   "outputs": [
    {
     "data": {
      "text/plain": [
       "['archive.zip',\n",
       " 'aw_fb_data.csv',\n",
       " 'cars_modified.csv',\n",
       " 'car_done.csv',\n",
       " 'Car_sales.csv',\n",
       " 'Churn_Modelling.csv',\n",
       " 'cr.csv',\n",
       " 'data_for_weka_aw.csv',\n",
       " 'data_for_weka_fb.csv',\n",
       " 'dfeval.csv',\n",
       " 'dftrain.csv',\n",
       " 'fitbit.csv',\n",
       " 'LoansData.csv',\n",
       " 'prde_train1.xlsx',\n",
       " 'supermarket_sales - Sheet1.csv',\n",
       " 'Supunky gamer 0518.png',\n",
       " 'temp20220318-39649-1q8i4xq.png',\n",
       " 'temp20220318-39649-1q8i4xq.v3.jpg',\n",
       " 'tkf.mp4',\n",
       " 'vehicles.csv']"
      ]
     },
     "execution_count": 3,
     "metadata": {},
     "output_type": "execute_result"
    }
   ],
   "source": [
    "os.listdir()"
   ]
  },
  {
   "cell_type": "code",
   "execution_count": 4,
   "id": "a1841ea3",
   "metadata": {},
   "outputs": [
    {
     "data": {
      "text/html": [
       "<div>\n",
       "<style scoped>\n",
       "    .dataframe tbody tr th:only-of-type {\n",
       "        vertical-align: middle;\n",
       "    }\n",
       "\n",
       "    .dataframe tbody tr th {\n",
       "        vertical-align: top;\n",
       "    }\n",
       "\n",
       "    .dataframe thead th {\n",
       "        text-align: right;\n",
       "    }\n",
       "</style>\n",
       "<table border=\"1\" class=\"dataframe\">\n",
       "  <thead>\n",
       "    <tr style=\"text-align: right;\">\n",
       "      <th></th>\n",
       "      <th>Sales_in_thousands</th>\n",
       "      <th>four_year_resale_value</th>\n",
       "      <th>Price_in_thousands</th>\n",
       "      <th>Engine_size</th>\n",
       "      <th>Wheelbase</th>\n",
       "      <th>Fuel_efficiency</th>\n",
       "      <th>Vehicle_type_Passenger</th>\n",
       "    </tr>\n",
       "  </thead>\n",
       "  <tbody>\n",
       "    <tr>\n",
       "      <th>0</th>\n",
       "      <td>16.919</td>\n",
       "      <td>16.360</td>\n",
       "      <td>21.500</td>\n",
       "      <td>1.8</td>\n",
       "      <td>101.2</td>\n",
       "      <td>28.0</td>\n",
       "      <td>1</td>\n",
       "    </tr>\n",
       "    <tr>\n",
       "      <th>1</th>\n",
       "      <td>39.384</td>\n",
       "      <td>19.875</td>\n",
       "      <td>28.400</td>\n",
       "      <td>3.2</td>\n",
       "      <td>108.1</td>\n",
       "      <td>25.0</td>\n",
       "      <td>1</td>\n",
       "    </tr>\n",
       "    <tr>\n",
       "      <th>2</th>\n",
       "      <td>14.114</td>\n",
       "      <td>18.225</td>\n",
       "      <td>22.799</td>\n",
       "      <td>3.2</td>\n",
       "      <td>106.9</td>\n",
       "      <td>26.0</td>\n",
       "      <td>1</td>\n",
       "    </tr>\n",
       "    <tr>\n",
       "      <th>3</th>\n",
       "      <td>8.588</td>\n",
       "      <td>29.725</td>\n",
       "      <td>42.000</td>\n",
       "      <td>3.5</td>\n",
       "      <td>114.6</td>\n",
       "      <td>22.0</td>\n",
       "      <td>1</td>\n",
       "    </tr>\n",
       "    <tr>\n",
       "      <th>4</th>\n",
       "      <td>20.397</td>\n",
       "      <td>22.255</td>\n",
       "      <td>23.990</td>\n",
       "      <td>1.8</td>\n",
       "      <td>102.6</td>\n",
       "      <td>27.0</td>\n",
       "      <td>1</td>\n",
       "    </tr>\n",
       "  </tbody>\n",
       "</table>\n",
       "</div>"
      ],
      "text/plain": [
       "   Sales_in_thousands  four_year_resale_value  Price_in_thousands  \\\n",
       "0              16.919                  16.360              21.500   \n",
       "1              39.384                  19.875              28.400   \n",
       "2              14.114                  18.225              22.799   \n",
       "3               8.588                  29.725              42.000   \n",
       "4              20.397                  22.255              23.990   \n",
       "\n",
       "   Engine_size  Wheelbase  Fuel_efficiency  Vehicle_type_Passenger  \n",
       "0          1.8      101.2             28.0                       1  \n",
       "1          3.2      108.1             25.0                       1  \n",
       "2          3.2      106.9             26.0                       1  \n",
       "3          3.5      114.6             22.0                       1  \n",
       "4          1.8      102.6             27.0                       1  "
      ]
     },
     "execution_count": 4,
     "metadata": {},
     "output_type": "execute_result"
    }
   ],
   "source": [
    "cars_modified2 = pd.read_csv('cars_modified.csv')\n",
    "cars_modified2.drop(['Unnamed: 0','Horsepower','Width','Length','Curb weight','Fuel_capacity','Power_perf_factor'] ,axis=1 ,inplace=True )\n",
    "cars_modified2.head()"
   ]
  },
  {
   "cell_type": "code",
   "execution_count": 5,
   "id": "5b10ea4f",
   "metadata": {},
   "outputs": [],
   "source": [
    "from sklearn.linear_model import LinearRegression"
   ]
  },
  {
   "cell_type": "code",
   "execution_count": 6,
   "id": "efa9bae6",
   "metadata": {},
   "outputs": [],
   "source": [
    "from sklearn.model_selection import train_test_split"
   ]
  },
  {
   "cell_type": "code",
   "execution_count": 7,
   "id": "7fb654a1",
   "metadata": {},
   "outputs": [],
   "source": [
    "from sklearn import metrics"
   ]
  },
  {
   "cell_type": "code",
   "execution_count": 8,
   "id": "3401eddd",
   "metadata": {},
   "outputs": [],
   "source": [
    "y = np.log1p(cars_modified2['Sales_in_thousands'])\n",
    "x = cars_modified2.drop(['Sales_in_thousands'], axis=1)\n",
    "\n",
    "# log(y) = x+x1+x2\n",
    "# y = e^x + e^x1"
   ]
  },
  {
   "cell_type": "code",
   "execution_count": null,
   "id": "587049d0",
   "metadata": {},
   "outputs": [],
   "source": [
    "#Important variable selection\n",
    "statistical Hypothesis(t test , anova,chisquare etc)\n",
    "corr\n",
    "VIF\n",
    "statististical methods (SelectKbest , etc )\n",
    "Advance methods (DT ,L1 ,L2 penelty , Other Methods)"
   ]
  },
  {
   "cell_type": "code",
   "execution_count": 29,
   "id": "b3c2b3e4",
   "metadata": {},
   "outputs": [],
   "source": [
    "X = x_train[['four_year_resale_value',\n",
    "             'Price_in_thousands', \n",
    "             'Engine_size',\n",
    "           # 'Horsepower', \n",
    "             'Wheelbase', \n",
    "           # 'Width',\n",
    "           # 'Length', \n",
    "           # 'Curb weight',\n",
    "           # 'Fuel_capacity',\n",
    "             'Fuel_efficiency', \n",
    "         # 'Power_perf_factor',\n",
    "       'Vehicle_type_Passenger'\n",
    "        ]]\n",
    "\n",
    "Y = y_train"
   ]
  },
  {
   "cell_type": "code",
   "execution_count": 9,
   "id": "ea8952c7",
   "metadata": {},
   "outputs": [],
   "source": [
    "x_train, x_test, y_train, y_test = train_test_split(x,y , test_size=0.25 , random_state=88)"
   ]
  },
  {
   "cell_type": "code",
   "execution_count": null,
   "id": "50e9795f",
   "metadata": {},
   "outputs": [],
   "source": [
    "y_train"
   ]
  },
  {
   "cell_type": "code",
   "execution_count": 11,
   "id": "35bb8161",
   "metadata": {},
   "outputs": [],
   "source": [
    "lr = LinearRegression()"
   ]
  },
  {
   "cell_type": "code",
   "execution_count": 12,
   "id": "f05bc06d",
   "metadata": {},
   "outputs": [
    {
     "data": {
      "text/plain": [
       "LinearRegression()"
      ]
     },
     "execution_count": 12,
     "metadata": {},
     "output_type": "execute_result"
    }
   ],
   "source": [
    "lr.fit(x_train,y_train)"
   ]
  },
  {
   "cell_type": "code",
   "execution_count": 13,
   "id": "912e3981",
   "metadata": {},
   "outputs": [
    {
     "data": {
      "text/plain": [
       "0.49197890450745896"
      ]
     },
     "execution_count": 13,
     "metadata": {},
     "output_type": "execute_result"
    }
   ],
   "source": [
    "lr.score(x_train,y_train)"
   ]
  },
  {
   "cell_type": "code",
   "execution_count": null,
   "id": "111b9a7e",
   "metadata": {},
   "outputs": [],
   "source": [
    "log y = w1x1 + w2x2 + w0\n",
    "y = e^(w1x1 + w2x2 + w0)"
   ]
  },
  {
   "cell_type": "code",
   "execution_count": null,
   "id": "f8918d5a",
   "metadata": {},
   "outputs": [],
   "source": [
    "# train_predY = np.expm1(lr.predict(x_train))\n",
    "\n",
    "test_predY = np.expm1(lr.predict(x_test))\n",
    "actY = y_test\n",
    "err = test_predY-y_test\n",
    "err"
   ]
  },
  {
   "cell_type": "code",
   "execution_count": null,
   "id": "ccbfa296",
   "metadata": {},
   "outputs": [],
   "source": [
    "test_pred = np.expm1(lr.predict(x_test))\n",
    "test_pred"
   ]
  },
  {
   "cell_type": "code",
   "execution_count": 14,
   "id": "c00f43d0",
   "metadata": {},
   "outputs": [
    {
     "data": {
      "text/plain": [
       "array([ 0.01981325, -0.05995618,  0.33989058,  0.04585677,  0.08234681,\n",
       "       -0.57794848])"
      ]
     },
     "execution_count": 14,
     "metadata": {},
     "output_type": "execute_result"
    }
   ],
   "source": [
    "lr.coef_\n",
    "\n"
   ]
  },
  {
   "cell_type": "code",
   "execution_count": 15,
   "id": "59ce2630",
   "metadata": {},
   "outputs": [
    {
     "data": {
      "text/plain": [
       "Index(['four_year_resale_value', 'Price_in_thousands', 'Engine_size',\n",
       "       'Wheelbase', 'Fuel_efficiency', 'Vehicle_type_Passenger'],\n",
       "      dtype='object')"
      ]
     },
     "execution_count": 15,
     "metadata": {},
     "output_type": "execute_result"
    }
   ],
   "source": [
    "x_train.columns"
   ]
  },
  {
   "cell_type": "code",
   "execution_count": null,
   "id": "0ef60916",
   "metadata": {},
   "outputs": [],
   "source": [
    "lr.intercept_  # constant value / c-value"
   ]
  },
  {
   "cell_type": "code",
   "execution_count": 22,
   "id": "a9730bcf",
   "metadata": {},
   "outputs": [],
   "source": [
    "from sklearn import linear_model\n",
    "mod = linear_model.LinearRegression()\n",
    "model = mod.fit(x_train,y_train)"
   ]
  },
  {
   "cell_type": "code",
   "execution_count": 21,
   "id": "ca182832",
   "metadata": {},
   "outputs": [
    {
     "data": {
      "text/plain": [
       "0.49197890450745896"
      ]
     },
     "execution_count": 21,
     "metadata": {},
     "output_type": "execute_result"
    }
   ],
   "source": [
    "mod.score(x_train,y_train) #Rsquare"
   ]
  },
  {
   "cell_type": "code",
   "execution_count": null,
   "id": "17adc37a",
   "metadata": {},
   "outputs": [],
   "source": [
    "# adjusted R-squared\n",
    "# 1 - ( 1-model.score(X, y) ) * ( len(y) - 1 ) / ( len(y) - X.shape[1] - 1 )\n",
    "\n",
    "Adj_r2 = 1 - (1-r2_score(y_test, y_pred)) * (len(y)-1)/(len(y)-X.shape[1]-1)"
   ]
  },
  {
   "cell_type": "code",
   "execution_count": null,
   "id": "b2a6944a",
   "metadata": {},
   "outputs": [],
   "source": []
  },
  {
   "cell_type": "code",
   "execution_count": 28,
   "id": "63be476e",
   "metadata": {},
   "outputs": [
    {
     "data": {
      "text/plain": [
       "array([ 14.00391507,  13.9075774 ,  33.89575319,  21.47191805,\n",
       "        43.8422314 ,  37.06553375,   1.12226886,  39.38016062,\n",
       "       115.274956  ,  48.84998825,  26.14417226,  35.98129384,\n",
       "        10.9980888 ,   0.98856291,  19.63793264,  20.59075841,\n",
       "        24.28384531,  34.98175506,  23.23729235,  17.72788213,\n",
       "        24.92519803,  86.91558128,  21.5410954 ,  39.49929911,\n",
       "        49.70123626,  84.06850641,   9.25182759,  14.55158423,\n",
       "        46.54517217,  27.44700793,  28.47638708,   5.33522509,\n",
       "        77.84485   , 122.66991864,  27.6530698 ,  11.0784399 ,\n",
       "        26.17033439,  25.08208178,  46.64997386,  37.52731344,\n",
       "        34.1249915 ,   6.70049599,   6.44204655,  65.62093636,\n",
       "        47.98821293,  22.47040721,  39.34414376,   1.02984468,\n",
       "        66.19630401,  29.32857422,  33.25818057,  30.24346743,\n",
       "        32.54387576,  42.27677879, 193.74461956,  39.91244601,\n",
       "        25.60816017,  45.04431256,  28.38661006,  90.61545072,\n",
       "        55.21018537,  41.04840458,   7.97668517,  74.7327304 ,\n",
       "        39.54597614,  19.17809345,  49.9731619 ,  28.59799209,\n",
       "        16.32361162,  23.68953439,  23.05176586,  34.97450489,\n",
       "        21.00941409,  41.75938652,  40.54220269,  37.93145899,\n",
       "        34.44045949,  41.28370569,  39.39977909,  24.78600131,\n",
       "        44.0168589 ,  60.34070936,  36.35411784,  28.90966699,\n",
       "        39.40718298,  21.72995914,  31.66923935,  10.36322112,\n",
       "         4.21802795,  47.423745  ,  17.92144157,  15.31715262,\n",
       "        23.94313015,  23.34931253, 346.34661748,  26.02480284,\n",
       "        29.1909885 ,  22.00558037,   0.38194294,  38.76470593,\n",
       "        37.60670179,  18.9217402 ,  23.21526465,  59.64501894,\n",
       "        48.54270263,  18.08694907,  36.32338456,  16.62630704,\n",
       "        29.2535375 ,  42.24471967,  36.49093175,   4.89673729,\n",
       "        36.22895708,  36.70754224,  19.70141156,  31.84421673,\n",
       "        32.87200207])"
      ]
     },
     "execution_count": 28,
     "metadata": {},
     "output_type": "execute_result"
    }
   ],
   "source": [
    "Actual_test= np.expm1(y_test)\n",
    "ActualY_train = np.expm1(y_train)\n",
    "predYtrain=np.expm1(model.predict(X))   \n",
    "predYtrain"
   ]
  },
  {
   "cell_type": "code",
   "execution_count": null,
   "id": "f2c975c1",
   "metadata": {},
   "outputs": [],
   "source": [
    "print('MSE', np.mean((ActualY_train - predYTrain)**2))"
   ]
  },
  {
   "cell_type": "code",
   "execution_count": null,
   "id": "39b03d80",
   "metadata": {},
   "outputs": [],
   "source": [
    "pred = pd.DataFrame({'ActualSale' : ActualY_train , \n",
    "                     'PredSale' : predYtrain} )\n",
    "pred"
   ]
  },
  {
   "cell_type": "code",
   "execution_count": null,
   "id": "da9f26b6",
   "metadata": {},
   "outputs": [],
   "source": []
  },
  {
   "cell_type": "code",
   "execution_count": null,
   "id": "8424421b",
   "metadata": {},
   "outputs": [],
   "source": [
    "pred.to_excel('prde_train1.xlsx')"
   ]
  },
  {
   "cell_type": "code",
   "execution_count": null,
   "id": "b7f1d207",
   "metadata": {},
   "outputs": [],
   "source": [
    "pred.head(20).plot(kind = 'bar',figsize=(10,8))"
   ]
  },
  {
   "cell_type": "code",
   "execution_count": null,
   "id": "83e5b655",
   "metadata": {},
   "outputs": [],
   "source": []
  },
  {
   "cell_type": "code",
   "execution_count": null,
   "id": "ad51afde",
   "metadata": {},
   "outputs": [],
   "source": []
  },
  {
   "cell_type": "code",
   "execution_count": null,
   "id": "dac32670",
   "metadata": {},
   "outputs": [],
   "source": []
  },
  {
   "cell_type": "code",
   "execution_count": null,
   "id": "593479e2",
   "metadata": {},
   "outputs": [],
   "source": []
  },
  {
   "cell_type": "code",
   "execution_count": null,
   "id": "3bd340da",
   "metadata": {},
   "outputs": [],
   "source": []
  },
  {
   "cell_type": "code",
   "execution_count": null,
   "id": "8b238f75",
   "metadata": {},
   "outputs": [],
   "source": []
  },
  {
   "cell_type": "code",
   "execution_count": null,
   "id": "62c2f695",
   "metadata": {},
   "outputs": [],
   "source": []
  },
  {
   "cell_type": "code",
   "execution_count": null,
   "id": "6730afac",
   "metadata": {},
   "outputs": [],
   "source": []
  },
  {
   "cell_type": "code",
   "execution_count": null,
   "id": "55216088",
   "metadata": {},
   "outputs": [],
   "source": []
  },
  {
   "cell_type": "code",
   "execution_count": null,
   "id": "36a2f805",
   "metadata": {},
   "outputs": [],
   "source": []
  },
  {
   "cell_type": "code",
   "execution_count": null,
   "id": "e1555f94",
   "metadata": {},
   "outputs": [],
   "source": []
  },
  {
   "cell_type": "code",
   "execution_count": null,
   "id": "16a5f954",
   "metadata": {},
   "outputs": [],
   "source": []
  },
  {
   "cell_type": "code",
   "execution_count": null,
   "id": "06620752",
   "metadata": {},
   "outputs": [],
   "source": []
  },
  {
   "cell_type": "code",
   "execution_count": null,
   "id": "5a40fbe0",
   "metadata": {},
   "outputs": [],
   "source": []
  },
  {
   "cell_type": "code",
   "execution_count": null,
   "id": "347cfa29",
   "metadata": {},
   "outputs": [],
   "source": []
  },
  {
   "cell_type": "code",
   "execution_count": null,
   "id": "485507a4",
   "metadata": {},
   "outputs": [],
   "source": []
  },
  {
   "cell_type": "code",
   "execution_count": null,
   "id": "6cc6b3d8",
   "metadata": {},
   "outputs": [],
   "source": []
  },
  {
   "cell_type": "code",
   "execution_count": null,
   "id": "4a63fb1d",
   "metadata": {},
   "outputs": [],
   "source": []
  },
  {
   "cell_type": "code",
   "execution_count": null,
   "id": "d87d9adc",
   "metadata": {},
   "outputs": [],
   "source": []
  },
  {
   "cell_type": "code",
   "execution_count": null,
   "id": "e05d789e",
   "metadata": {},
   "outputs": [],
   "source": []
  },
  {
   "cell_type": "code",
   "execution_count": null,
   "id": "951fa2bf",
   "metadata": {},
   "outputs": [],
   "source": []
  },
  {
   "cell_type": "code",
   "execution_count": null,
   "id": "2ab635cd",
   "metadata": {},
   "outputs": [],
   "source": []
  },
  {
   "cell_type": "code",
   "execution_count": null,
   "id": "05a53e9b",
   "metadata": {},
   "outputs": [],
   "source": []
  },
  {
   "cell_type": "code",
   "execution_count": null,
   "id": "df77ee9b",
   "metadata": {},
   "outputs": [],
   "source": []
  },
  {
   "cell_type": "code",
   "execution_count": null,
   "id": "3fae8f93",
   "metadata": {},
   "outputs": [],
   "source": []
  },
  {
   "cell_type": "code",
   "execution_count": null,
   "id": "5ad6a641",
   "metadata": {},
   "outputs": [],
   "source": []
  },
  {
   "cell_type": "code",
   "execution_count": null,
   "id": "4196e2d8",
   "metadata": {},
   "outputs": [],
   "source": []
  },
  {
   "cell_type": "code",
   "execution_count": null,
   "id": "3fa6246c",
   "metadata": {},
   "outputs": [],
   "source": []
  },
  {
   "cell_type": "code",
   "execution_count": null,
   "id": "08f78af7",
   "metadata": {},
   "outputs": [],
   "source": []
  },
  {
   "cell_type": "code",
   "execution_count": null,
   "id": "99165119",
   "metadata": {},
   "outputs": [],
   "source": []
  },
  {
   "cell_type": "code",
   "execution_count": null,
   "id": "d08d72bf",
   "metadata": {},
   "outputs": [],
   "source": []
  },
  {
   "cell_type": "code",
   "execution_count": null,
   "id": "3db48257",
   "metadata": {},
   "outputs": [],
   "source": []
  },
  {
   "cell_type": "code",
   "execution_count": null,
   "id": "1a6edcde",
   "metadata": {},
   "outputs": [],
   "source": []
  },
  {
   "cell_type": "code",
   "execution_count": null,
   "id": "574fddc7",
   "metadata": {},
   "outputs": [],
   "source": []
  },
  {
   "cell_type": "code",
   "execution_count": null,
   "id": "4df7b921",
   "metadata": {},
   "outputs": [],
   "source": []
  },
  {
   "cell_type": "code",
   "execution_count": null,
   "id": "12994f31",
   "metadata": {},
   "outputs": [],
   "source": []
  }
 ],
 "metadata": {
  "kernelspec": {
   "display_name": "Python 3 (ipykernel)",
   "language": "python",
   "name": "python3"
  },
  "language_info": {
   "codemirror_mode": {
    "name": "ipython",
    "version": 3
   },
   "file_extension": ".py",
   "mimetype": "text/x-python",
   "name": "python",
   "nbconvert_exporter": "python",
   "pygments_lexer": "ipython3",
   "version": "3.9.7"
  }
 },
 "nbformat": 4,
 "nbformat_minor": 5
}
