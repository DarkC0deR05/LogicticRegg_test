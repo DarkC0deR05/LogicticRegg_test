{
 "cells": [
  {
   "cell_type": "code",
   "execution_count": 1,
   "id": "3acd6aec",
   "metadata": {},
   "outputs": [],
   "source": [
    "import os\n",
    "import pandas as pd\n",
    "import numpy as np\n",
    "import matplotlib.pyplot as plt\n",
    "import seaborn as sns\n",
    "\n",
    "%matplotlib inline"
   ]
  },
  {
   "cell_type": "code",
   "execution_count": 2,
   "id": "88abaa5d",
   "metadata": {},
   "outputs": [],
   "source": [
    "os.chdir('D:\\Imarticus\\ML')"
   ]
  },
  {
   "cell_type": "code",
   "execution_count": 3,
   "id": "21763245",
   "metadata": {},
   "outputs": [
    {
     "data": {
      "text/plain": [
       "['4kvideodownloader_4.20.1_x64_online.exe',\n",
       " 'archive.zip',\n",
       " 'aw_fb_data.csv',\n",
       " 'cars_modified.csv',\n",
       " 'car_done.csv',\n",
       " 'Car_sales.csv',\n",
       " 'Chi-Sq Test.ipynb',\n",
       " 'Churn_Modelling.csv',\n",
       " 'cr.csv',\n",
       " 'data_for_weka_aw.csv',\n",
       " 'data_for_weka_fb.csv',\n",
       " 'dfeval.csv',\n",
       " 'dftrain.csv',\n",
       " 'Fish_dataset.csv',\n",
       " 'fitbit.csv',\n",
       " 'linerRegg (1).ipynb',\n",
       " 'linerRegg.ipynb',\n",
       " 'LoansData.csv',\n",
       " 'Loan_data (1).ipynb',\n",
       " 'loan_modified.csv',\n",
       " 'New Season.jpg',\n",
       " 'PGA20_ML_Notes.xlsx',\n",
       " 'prde_train1.xlsx',\n",
       " 'supermarket_sales - Sheet1.csv',\n",
       " 'Supunky gamer 0518.png',\n",
       " 'temp20220318-39649-1q8i4xq.png',\n",
       " 'temp20220318-39649-1q8i4xq.v3.jpg',\n",
       " 'Test_RiskScore.xlsx',\n",
       " 'tkf.mp4',\n",
       " 'vehicles.csv',\n",
       " 'Viresh-sgd.ipynb']"
      ]
     },
     "execution_count": 3,
     "metadata": {},
     "output_type": "execute_result"
    }
   ],
   "source": [
    "os.listdir()"
   ]
  },
  {
   "cell_type": "code",
   "execution_count": 4,
   "id": "24432493",
   "metadata": {},
   "outputs": [
    {
     "data": {
      "text/html": [
       "<div>\n",
       "<style scoped>\n",
       "    .dataframe tbody tr th:only-of-type {\n",
       "        vertical-align: middle;\n",
       "    }\n",
       "\n",
       "    .dataframe tbody tr th {\n",
       "        vertical-align: top;\n",
       "    }\n",
       "\n",
       "    .dataframe thead th {\n",
       "        text-align: right;\n",
       "    }\n",
       "</style>\n",
       "<table border=\"1\" class=\"dataframe\">\n",
       "  <thead>\n",
       "    <tr style=\"text-align: right;\">\n",
       "      <th></th>\n",
       "      <th>Species</th>\n",
       "      <th>Weight</th>\n",
       "      <th>Length1</th>\n",
       "      <th>Length2</th>\n",
       "      <th>Length3</th>\n",
       "      <th>Height</th>\n",
       "      <th>Width</th>\n",
       "    </tr>\n",
       "  </thead>\n",
       "  <tbody>\n",
       "    <tr>\n",
       "      <th>0</th>\n",
       "      <td>Bream</td>\n",
       "      <td>242.0</td>\n",
       "      <td>23.2</td>\n",
       "      <td>25.4</td>\n",
       "      <td>30.0</td>\n",
       "      <td>11.5200</td>\n",
       "      <td>4.0200</td>\n",
       "    </tr>\n",
       "    <tr>\n",
       "      <th>1</th>\n",
       "      <td>Bream</td>\n",
       "      <td>290.0</td>\n",
       "      <td>24.0</td>\n",
       "      <td>26.3</td>\n",
       "      <td>31.2</td>\n",
       "      <td>12.4800</td>\n",
       "      <td>4.3056</td>\n",
       "    </tr>\n",
       "    <tr>\n",
       "      <th>2</th>\n",
       "      <td>Bream</td>\n",
       "      <td>340.0</td>\n",
       "      <td>23.9</td>\n",
       "      <td>26.5</td>\n",
       "      <td>31.1</td>\n",
       "      <td>12.3778</td>\n",
       "      <td>4.6961</td>\n",
       "    </tr>\n",
       "    <tr>\n",
       "      <th>3</th>\n",
       "      <td>Bream</td>\n",
       "      <td>363.0</td>\n",
       "      <td>26.3</td>\n",
       "      <td>29.0</td>\n",
       "      <td>33.5</td>\n",
       "      <td>12.7300</td>\n",
       "      <td>4.4555</td>\n",
       "    </tr>\n",
       "    <tr>\n",
       "      <th>4</th>\n",
       "      <td>Bream</td>\n",
       "      <td>430.0</td>\n",
       "      <td>26.5</td>\n",
       "      <td>29.0</td>\n",
       "      <td>34.0</td>\n",
       "      <td>12.4440</td>\n",
       "      <td>5.1340</td>\n",
       "    </tr>\n",
       "  </tbody>\n",
       "</table>\n",
       "</div>"
      ],
      "text/plain": [
       "  Species  Weight  Length1  Length2  Length3   Height   Width\n",
       "0   Bream   242.0     23.2     25.4     30.0  11.5200  4.0200\n",
       "1   Bream   290.0     24.0     26.3     31.2  12.4800  4.3056\n",
       "2   Bream   340.0     23.9     26.5     31.1  12.3778  4.6961\n",
       "3   Bream   363.0     26.3     29.0     33.5  12.7300  4.4555\n",
       "4   Bream   430.0     26.5     29.0     34.0  12.4440  5.1340"
      ]
     },
     "execution_count": 4,
     "metadata": {},
     "output_type": "execute_result"
    }
   ],
   "source": [
    "fish = pd.read_csv('Fish_dataset.csv')\n",
    "fish.head()"
   ]
  },
  {
   "cell_type": "code",
   "execution_count": 5,
   "id": "c4572ec7",
   "metadata": {},
   "outputs": [
    {
     "data": {
      "text/html": [
       "<div>\n",
       "<style scoped>\n",
       "    .dataframe tbody tr th:only-of-type {\n",
       "        vertical-align: middle;\n",
       "    }\n",
       "\n",
       "    .dataframe tbody tr th {\n",
       "        vertical-align: top;\n",
       "    }\n",
       "\n",
       "    .dataframe thead th {\n",
       "        text-align: right;\n",
       "    }\n",
       "</style>\n",
       "<table border=\"1\" class=\"dataframe\">\n",
       "  <thead>\n",
       "    <tr style=\"text-align: right;\">\n",
       "      <th></th>\n",
       "      <th>count</th>\n",
       "      <th>mean</th>\n",
       "      <th>std</th>\n",
       "      <th>min</th>\n",
       "      <th>1%</th>\n",
       "      <th>2%</th>\n",
       "      <th>3%</th>\n",
       "      <th>4%</th>\n",
       "      <th>5%</th>\n",
       "      <th>10%</th>\n",
       "      <th>...</th>\n",
       "      <th>50%</th>\n",
       "      <th>75%</th>\n",
       "      <th>85%</th>\n",
       "      <th>90%</th>\n",
       "      <th>95%</th>\n",
       "      <th>96%</th>\n",
       "      <th>97%</th>\n",
       "      <th>98%</th>\n",
       "      <th>99%</th>\n",
       "      <th>max</th>\n",
       "    </tr>\n",
       "  </thead>\n",
       "  <tbody>\n",
       "    <tr>\n",
       "      <th>Weight</th>\n",
       "      <td>159.0</td>\n",
       "      <td>398.326415</td>\n",
       "      <td>357.978317</td>\n",
       "      <td>0.0000</td>\n",
       "      <td>6.364000</td>\n",
       "      <td>7.080000</td>\n",
       "      <td>8.388000</td>\n",
       "      <td>9.732000</td>\n",
       "      <td>9.80000</td>\n",
       "      <td>29.58000</td>\n",
       "      <td>...</td>\n",
       "      <td>273.0000</td>\n",
       "      <td>650.0000</td>\n",
       "      <td>820.00000</td>\n",
       "      <td>930.0000</td>\n",
       "      <td>1000.00000</td>\n",
       "      <td>1010.200000</td>\n",
       "      <td>1100.000000</td>\n",
       "      <td>1226.000000</td>\n",
       "      <td>1571.000000</td>\n",
       "      <td>1650.000</td>\n",
       "    </tr>\n",
       "    <tr>\n",
       "      <th>Length1</th>\n",
       "      <td>159.0</td>\n",
       "      <td>26.247170</td>\n",
       "      <td>9.996441</td>\n",
       "      <td>7.5000</td>\n",
       "      <td>9.706000</td>\n",
       "      <td>10.148000</td>\n",
       "      <td>10.622000</td>\n",
       "      <td>10.960000</td>\n",
       "      <td>11.30000</td>\n",
       "      <td>13.44000</td>\n",
       "      <td>...</td>\n",
       "      <td>25.2000</td>\n",
       "      <td>32.7000</td>\n",
       "      <td>36.53000</td>\n",
       "      <td>38.2000</td>\n",
       "      <td>41.19000</td>\n",
       "      <td>42.816000</td>\n",
       "      <td>45.710000</td>\n",
       "      <td>51.408000</td>\n",
       "      <td>56.000000</td>\n",
       "      <td>59.000</td>\n",
       "    </tr>\n",
       "    <tr>\n",
       "      <th>Length2</th>\n",
       "      <td>159.0</td>\n",
       "      <td>28.415723</td>\n",
       "      <td>10.716328</td>\n",
       "      <td>8.4000</td>\n",
       "      <td>10.206000</td>\n",
       "      <td>10.664000</td>\n",
       "      <td>11.148000</td>\n",
       "      <td>11.460000</td>\n",
       "      <td>11.80000</td>\n",
       "      <td>14.62000</td>\n",
       "      <td>...</td>\n",
       "      <td>27.3000</td>\n",
       "      <td>35.5000</td>\n",
       "      <td>39.15000</td>\n",
       "      <td>41.2000</td>\n",
       "      <td>44.10000</td>\n",
       "      <td>45.680000</td>\n",
       "      <td>48.962000</td>\n",
       "      <td>55.312000</td>\n",
       "      <td>60.000000</td>\n",
       "      <td>63.400</td>\n",
       "    </tr>\n",
       "    <tr>\n",
       "      <th>Length3</th>\n",
       "      <td>159.0</td>\n",
       "      <td>31.227044</td>\n",
       "      <td>11.610246</td>\n",
       "      <td>8.8000</td>\n",
       "      <td>11.264000</td>\n",
       "      <td>11.664000</td>\n",
       "      <td>12.296000</td>\n",
       "      <td>12.760000</td>\n",
       "      <td>13.10000</td>\n",
       "      <td>16.16000</td>\n",
       "      <td>...</td>\n",
       "      <td>29.4000</td>\n",
       "      <td>39.6500</td>\n",
       "      <td>42.50000</td>\n",
       "      <td>45.3400</td>\n",
       "      <td>46.74000</td>\n",
       "      <td>48.476000</td>\n",
       "      <td>52.214000</td>\n",
       "      <td>58.964000</td>\n",
       "      <td>64.000000</td>\n",
       "      <td>68.000</td>\n",
       "    </tr>\n",
       "    <tr>\n",
       "      <th>Height</th>\n",
       "      <td>159.0</td>\n",
       "      <td>8.970994</td>\n",
       "      <td>4.286208</td>\n",
       "      <td>1.7284</td>\n",
       "      <td>1.874056</td>\n",
       "      <td>1.995000</td>\n",
       "      <td>2.088528</td>\n",
       "      <td>2.138880</td>\n",
       "      <td>2.20356</td>\n",
       "      <td>3.76480</td>\n",
       "      <td>...</td>\n",
       "      <td>7.7860</td>\n",
       "      <td>12.3659</td>\n",
       "      <td>14.19363</td>\n",
       "      <td>15.1904</td>\n",
       "      <td>16.37732</td>\n",
       "      <td>16.770368</td>\n",
       "      <td>17.730984</td>\n",
       "      <td>18.076464</td>\n",
       "      <td>18.685296</td>\n",
       "      <td>18.957</td>\n",
       "    </tr>\n",
       "    <tr>\n",
       "      <th>Width</th>\n",
       "      <td>159.0</td>\n",
       "      <td>4.417486</td>\n",
       "      <td>1.685804</td>\n",
       "      <td>1.0476</td>\n",
       "      <td>1.148400</td>\n",
       "      <td>1.160944</td>\n",
       "      <td>1.232426</td>\n",
       "      <td>1.271624</td>\n",
       "      <td>1.28314</td>\n",
       "      <td>2.22784</td>\n",
       "      <td>...</td>\n",
       "      <td>4.2485</td>\n",
       "      <td>5.5845</td>\n",
       "      <td>6.36777</td>\n",
       "      <td>6.7421</td>\n",
       "      <td>7.28462</td>\n",
       "      <td>7.395668</td>\n",
       "      <td>7.466976</td>\n",
       "      <td>7.491256</td>\n",
       "      <td>7.679758</td>\n",
       "      <td>8.142</td>\n",
       "    </tr>\n",
       "  </tbody>\n",
       "</table>\n",
       "<p>6 rows × 22 columns</p>\n",
       "</div>"
      ],
      "text/plain": [
       "         count        mean         std     min         1%         2%  \\\n",
       "Weight   159.0  398.326415  357.978317  0.0000   6.364000   7.080000   \n",
       "Length1  159.0   26.247170    9.996441  7.5000   9.706000  10.148000   \n",
       "Length2  159.0   28.415723   10.716328  8.4000  10.206000  10.664000   \n",
       "Length3  159.0   31.227044   11.610246  8.8000  11.264000  11.664000   \n",
       "Height   159.0    8.970994    4.286208  1.7284   1.874056   1.995000   \n",
       "Width    159.0    4.417486    1.685804  1.0476   1.148400   1.160944   \n",
       "\n",
       "                3%         4%        5%       10%  ...       50%       75%  \\\n",
       "Weight    8.388000   9.732000   9.80000  29.58000  ...  273.0000  650.0000   \n",
       "Length1  10.622000  10.960000  11.30000  13.44000  ...   25.2000   32.7000   \n",
       "Length2  11.148000  11.460000  11.80000  14.62000  ...   27.3000   35.5000   \n",
       "Length3  12.296000  12.760000  13.10000  16.16000  ...   29.4000   39.6500   \n",
       "Height    2.088528   2.138880   2.20356   3.76480  ...    7.7860   12.3659   \n",
       "Width     1.232426   1.271624   1.28314   2.22784  ...    4.2485    5.5845   \n",
       "\n",
       "               85%       90%         95%          96%          97%  \\\n",
       "Weight   820.00000  930.0000  1000.00000  1010.200000  1100.000000   \n",
       "Length1   36.53000   38.2000    41.19000    42.816000    45.710000   \n",
       "Length2   39.15000   41.2000    44.10000    45.680000    48.962000   \n",
       "Length3   42.50000   45.3400    46.74000    48.476000    52.214000   \n",
       "Height    14.19363   15.1904    16.37732    16.770368    17.730984   \n",
       "Width      6.36777    6.7421     7.28462     7.395668     7.466976   \n",
       "\n",
       "                 98%          99%       max  \n",
       "Weight   1226.000000  1571.000000  1650.000  \n",
       "Length1    51.408000    56.000000    59.000  \n",
       "Length2    55.312000    60.000000    63.400  \n",
       "Length3    58.964000    64.000000    68.000  \n",
       "Height     18.076464    18.685296    18.957  \n",
       "Width       7.491256     7.679758     8.142  \n",
       "\n",
       "[6 rows x 22 columns]"
      ]
     },
     "execution_count": 5,
     "metadata": {},
     "output_type": "execute_result"
    }
   ],
   "source": [
    "fish.describe(percentiles=[.01,.02,.03,0.04,.05,.1,0.15,.25,0.75,0.85,.90,.95,.96,.97,.98,.99]).T"
   ]
  },
  {
   "cell_type": "code",
   "execution_count": 7,
   "id": "aec7363b",
   "metadata": {},
   "outputs": [
    {
     "name": "stdout",
     "output_type": "stream",
     "text": [
      "<class 'pandas.core.frame.DataFrame'>\n",
      "RangeIndex: 159 entries, 0 to 158\n",
      "Data columns (total 7 columns):\n",
      " #   Column   Non-Null Count  Dtype  \n",
      "---  ------   --------------  -----  \n",
      " 0   Species  159 non-null    object \n",
      " 1   Weight   159 non-null    float64\n",
      " 2   Length1  159 non-null    float64\n",
      " 3   Length2  159 non-null    float64\n",
      " 4   Length3  159 non-null    float64\n",
      " 5   Height   159 non-null    float64\n",
      " 6   Width    159 non-null    float64\n",
      "dtypes: float64(6), object(1)\n",
      "memory usage: 8.8+ KB\n"
     ]
    }
   ],
   "source": [
    "fish.info()"
   ]
  },
  {
   "cell_type": "code",
   "execution_count": 8,
   "id": "de49f234",
   "metadata": {},
   "outputs": [
    {
     "data": {
      "text/plain": [
       "Species    0\n",
       "Weight     0\n",
       "Length1    0\n",
       "Length2    0\n",
       "Length3    0\n",
       "Height     0\n",
       "Width      0\n",
       "dtype: int64"
      ]
     },
     "execution_count": 8,
     "metadata": {},
     "output_type": "execute_result"
    }
   ],
   "source": [
    "fish.isnull().sum().sort_values(ascending=False)\n"
   ]
  },
  {
   "cell_type": "code",
   "execution_count": 9,
   "id": "100f285b",
   "metadata": {},
   "outputs": [
    {
     "name": "stderr",
     "output_type": "stream",
     "text": [
      "C:\\Users\\ambar\\anaconda3\\lib\\site-packages\\seaborn\\_decorators.py:36: FutureWarning: Pass the following variable as a keyword arg: x. From version 0.12, the only valid positional argument will be `data`, and passing other arguments without an explicit keyword will result in an error or misinterpretation.\n",
      "  warnings.warn(\n"
     ]
    },
    {
     "data": {
      "text/plain": [
       "<AxesSubplot:xlabel='Length2'>"
      ]
     },
     "execution_count": 9,
     "metadata": {},
     "output_type": "execute_result"
    },
    {
     "data": {
      "image/png": "[encoded data removed]",
      "text/plain": [
       "<Figure size 432x288 with 1 Axes>"
      ]
     },
     "metadata": {
      "needs_background": "light"
     },
     "output_type": "display_data"
    }
   ],
   "source": [
    "sns.boxplot(fish['Length2'])"
   ]
  },
  {
   "cell_type": "markdown",
   "id": "3cbd7d9b",
   "metadata": {},
   "source": [
    "# Outliar treatment"
   ]
  },
  {
   "cell_type": "code",
   "execution_count": 10,
   "id": "4297c51e",
   "metadata": {},
   "outputs": [],
   "source": [
    "fish['Weight']= np.where(fish['Weight']<=6.364000 , 6.364000, fish['Weight'] )"
   ]
  },
  {
   "cell_type": "code",
   "execution_count": 11,
   "id": "a4b09d14",
   "metadata": {},
   "outputs": [],
   "source": [
    "fish['Length1']= np.where(fish['Length1']<=9.706000 , 9.706000, fish['Length1'] )"
   ]
  },
  {
   "cell_type": "code",
   "execution_count": 12,
   "id": "4fcf8f38",
   "metadata": {},
   "outputs": [],
   "source": [
    "fish['Length2']= np.where(fish['Length2']<=10.206000 , 10.206000, fish['Length2'] )"
   ]
  },
  {
   "cell_type": "code",
   "execution_count": 13,
   "id": "5b43a3d6",
   "metadata": {},
   "outputs": [],
   "source": [
    "fish['Length3']= np.where(fish['Length3']<=11.264000 , 11.264000, fish['Length3'] )"
   ]
  },
  {
   "cell_type": "code",
   "execution_count": 14,
   "id": "3c6d643c",
   "metadata": {},
   "outputs": [],
   "source": [
    "fish['Width']= np.where(fish['Width']<=1.148400 , 1.148400, fish['Width'] )"
   ]
  },
  {
   "cell_type": "code",
   "execution_count": null,
   "id": "c02f1a95",
   "metadata": {},
   "outputs": [],
   "source": []
  },
  {
   "cell_type": "code",
   "execution_count": null,
   "id": "56eb59fa",
   "metadata": {},
   "outputs": [],
   "source": []
  },
  {
   "cell_type": "code",
   "execution_count": 15,
   "id": "636552a2",
   "metadata": {},
   "outputs": [],
   "source": [
    "fish['Weight']= np.where(fish['Weight']>=1226 , 1226, fish['Weight'] )"
   ]
  },
  {
   "cell_type": "code",
   "execution_count": 16,
   "id": "59f20cf8",
   "metadata": {},
   "outputs": [],
   "source": [
    "fish['Width']= np.where(fish['Width']>=7.679758, 7.679758, fish['Width'] )"
   ]
  },
  {
   "cell_type": "code",
   "execution_count": 17,
   "id": "d88ddba8",
   "metadata": {},
   "outputs": [],
   "source": [
    "fish['Length1']= np.where(fish['Length1']>=51.408000 , 51.408000, fish['Length1'] )"
   ]
  },
  {
   "cell_type": "code",
   "execution_count": 18,
   "id": "cfda1f6e",
   "metadata": {},
   "outputs": [],
   "source": [
    "fish['Length2']= np.where(fish['Length2']>=55.312000 ,55.312000, fish['Length2'] )"
   ]
  },
  {
   "cell_type": "code",
   "execution_count": 19,
   "id": "7cfa0c90",
   "metadata": {},
   "outputs": [],
   "source": [
    "fish['Length3']= np.where(fish['Length3']>=58.964000 ,58.964000, fish['Length3'] )"
   ]
  },
  {
   "cell_type": "markdown",
   "id": "c70fad30",
   "metadata": {},
   "source": [
    "# plot a bar chart showing count of individual species"
   ]
  },
  {
   "cell_type": "code",
   "execution_count": 20,
   "id": "ebbd38d1",
   "metadata": {},
   "outputs": [
    {
     "data": {
      "image/png": "[encoded data removed]",
      "text/plain": [
       "<Figure size 432x288 with 1 Axes>"
      ]
     },
     "metadata": {
      "needs_background": "light"
     },
     "output_type": "display_data"
    }
   ],
   "source": [
    "fish[\"Species\"].value_counts().plot(kind='bar')\n",
    "plt.xlabel('Name of Species')\n",
    "plt.ylabel('Count')\n",
    "plt.show()"
   ]
  },
  {
   "cell_type": "markdown",
   "id": "98fcfb45",
   "metadata": {},
   "source": [
    "# checking corelation"
   ]
  },
  {
   "cell_type": "code",
   "execution_count": 21,
   "id": "a681fa8d",
   "metadata": {},
   "outputs": [
    {
     "data": {
      "text/plain": [
       "Index(['Species', 'Weight', 'Length1', 'Length2', 'Length3', 'Height',\n",
       "       'Width'],\n",
       "      dtype='object')"
      ]
     },
     "execution_count": 21,
     "metadata": {},
     "output_type": "execute_result"
    }
   ],
   "source": [
    "fish.columns"
   ]
  },
  {
   "cell_type": "code",
   "execution_count": 22,
   "id": "227140bb",
   "metadata": {},
   "outputs": [
    {
     "data": {
      "text/plain": [
       "0    Bream\n",
       "1    Bream\n",
       "2    Bream\n",
       "3    Bream\n",
       "4    Bream\n",
       "Name: Species, dtype: object"
      ]
     },
     "execution_count": 22,
     "metadata": {},
     "output_type": "execute_result"
    }
   ],
   "source": [
    "fish_cat = fish['Species']\n",
    "fish_num = fish.drop(columns=['Species'])\n",
    "\n",
    "fish_cat.head()"
   ]
  },
  {
   "cell_type": "code",
   "execution_count": 23,
   "id": "b46228d6",
   "metadata": {},
   "outputs": [
    {
     "data": {
      "text/plain": [
       "<AxesSubplot:>"
      ]
     },
     "execution_count": 23,
     "metadata": {},
     "output_type": "execute_result"
    },
    {
     "data": {
      "image/png": "[encoded data removed]",
      "text/plain": [
       "<Figure size 720x432 with 2 Axes>"
      ]
     },
     "metadata": {
      "needs_background": "light"
     },
     "output_type": "display_data"
    }
   ],
   "source": [
    "plt.figure(figsize=(10,6))\n",
    "sns.heatmap(fish_num.corr() , annot=True ,cmap='coolwarm' )"
   ]
  },
  {
   "cell_type": "code",
   "execution_count": 24,
   "id": "997a16dc",
   "metadata": {},
   "outputs": [
    {
     "data": {
      "text/plain": [
       "<seaborn.axisgrid.PairGrid at 0x2fc3eaff0a0>"
      ]
     },
     "execution_count": 24,
     "metadata": {},
     "output_type": "execute_result"
    },
    {
     "data": {
      "image/png": "[encoded data removed]",
      "text/plain": [
       "<Figure size 720x720 with 20 Axes>"
      ]
     },
     "metadata": {
      "needs_background": "light"
     },
     "output_type": "display_data"
    }
   ],
   "source": [
    "sns.pairplot(fish_num.drop(columns=['Length2','Length3']))"
   ]
  },
  {
   "cell_type": "code",
   "execution_count": 25,
   "id": "811114bb",
   "metadata": {},
   "outputs": [
    {
     "name": "stdout",
     "output_type": "stream",
     "text": [
      "<class 'pandas.core.frame.DataFrame'>\n",
      "RangeIndex: 159 entries, 0 to 158\n",
      "Data columns (total 12 columns):\n",
      " #   Column             Non-Null Count  Dtype  \n",
      "---  ------             --------------  -----  \n",
      " 0   Weight             159 non-null    float64\n",
      " 1   Length1            159 non-null    float64\n",
      " 2   Length2            159 non-null    float64\n",
      " 3   Length3            159 non-null    float64\n",
      " 4   Height             159 non-null    float64\n",
      " 5   Width              159 non-null    float64\n",
      " 6   Species_Parkki     159 non-null    uint8  \n",
      " 7   Species_Perch      159 non-null    uint8  \n",
      " 8   Species_Pike       159 non-null    uint8  \n",
      " 9   Species_Roach      159 non-null    uint8  \n",
      " 10  Species_Smelt      159 non-null    uint8  \n",
      " 11  Species_Whitefish  159 non-null    uint8  \n",
      "dtypes: float64(6), uint8(6)\n",
      "memory usage: 8.5 KB\n"
     ]
    }
   ],
   "source": [
    "fish_dummy = pd.get_dummies(fish,drop_first=True)\n",
    "fish_dummy.info()"
   ]
  },
  {
   "cell_type": "code",
   "execution_count": 26,
   "id": "97b743df",
   "metadata": {},
   "outputs": [],
   "source": [
    "fish_dummy.drop(columns=['Length2','Length3'],inplace=True)"
   ]
  },
  {
   "cell_type": "code",
   "execution_count": 27,
   "id": "89286ec5",
   "metadata": {},
   "outputs": [
    {
     "data": {
      "text/html": [
       "<div>\n",
       "<style scoped>\n",
       "    .dataframe tbody tr th:only-of-type {\n",
       "        vertical-align: middle;\n",
       "    }\n",
       "\n",
       "    .dataframe tbody tr th {\n",
       "        vertical-align: top;\n",
       "    }\n",
       "\n",
       "    .dataframe thead th {\n",
       "        text-align: right;\n",
       "    }\n",
       "</style>\n",
       "<table border=\"1\" class=\"dataframe\">\n",
       "  <thead>\n",
       "    <tr style=\"text-align: right;\">\n",
       "      <th></th>\n",
       "      <th>Weight</th>\n",
       "      <th>Length1</th>\n",
       "      <th>Height</th>\n",
       "      <th>Width</th>\n",
       "      <th>Species_Parkki</th>\n",
       "      <th>Species_Perch</th>\n",
       "      <th>Species_Pike</th>\n",
       "      <th>Species_Roach</th>\n",
       "      <th>Species_Smelt</th>\n",
       "      <th>Species_Whitefish</th>\n",
       "    </tr>\n",
       "  </thead>\n",
       "  <tbody>\n",
       "    <tr>\n",
       "      <th>0</th>\n",
       "      <td>242.0</td>\n",
       "      <td>23.2</td>\n",
       "      <td>11.5200</td>\n",
       "      <td>4.0200</td>\n",
       "      <td>0</td>\n",
       "      <td>0</td>\n",
       "      <td>0</td>\n",
       "      <td>0</td>\n",
       "      <td>0</td>\n",
       "      <td>0</td>\n",
       "    </tr>\n",
       "    <tr>\n",
       "      <th>1</th>\n",
       "      <td>290.0</td>\n",
       "      <td>24.0</td>\n",
       "      <td>12.4800</td>\n",
       "      <td>4.3056</td>\n",
       "      <td>0</td>\n",
       "      <td>0</td>\n",
       "      <td>0</td>\n",
       "      <td>0</td>\n",
       "      <td>0</td>\n",
       "      <td>0</td>\n",
       "    </tr>\n",
       "    <tr>\n",
       "      <th>2</th>\n",
       "      <td>340.0</td>\n",
       "      <td>23.9</td>\n",
       "      <td>12.3778</td>\n",
       "      <td>4.6961</td>\n",
       "      <td>0</td>\n",
       "      <td>0</td>\n",
       "      <td>0</td>\n",
       "      <td>0</td>\n",
       "      <td>0</td>\n",
       "      <td>0</td>\n",
       "    </tr>\n",
       "    <tr>\n",
       "      <th>3</th>\n",
       "      <td>363.0</td>\n",
       "      <td>26.3</td>\n",
       "      <td>12.7300</td>\n",
       "      <td>4.4555</td>\n",
       "      <td>0</td>\n",
       "      <td>0</td>\n",
       "      <td>0</td>\n",
       "      <td>0</td>\n",
       "      <td>0</td>\n",
       "      <td>0</td>\n",
       "    </tr>\n",
       "    <tr>\n",
       "      <th>4</th>\n",
       "      <td>430.0</td>\n",
       "      <td>26.5</td>\n",
       "      <td>12.4440</td>\n",
       "      <td>5.1340</td>\n",
       "      <td>0</td>\n",
       "      <td>0</td>\n",
       "      <td>0</td>\n",
       "      <td>0</td>\n",
       "      <td>0</td>\n",
       "      <td>0</td>\n",
       "    </tr>\n",
       "  </tbody>\n",
       "</table>\n",
       "</div>"
      ],
      "text/plain": [
       "   Weight  Length1   Height   Width  Species_Parkki  Species_Perch  \\\n",
       "0   242.0     23.2  11.5200  4.0200               0              0   \n",
       "1   290.0     24.0  12.4800  4.3056               0              0   \n",
       "2   340.0     23.9  12.3778  4.6961               0              0   \n",
       "3   363.0     26.3  12.7300  4.4555               0              0   \n",
       "4   430.0     26.5  12.4440  5.1340               0              0   \n",
       "\n",
       "   Species_Pike  Species_Roach  Species_Smelt  Species_Whitefish  \n",
       "0             0              0              0                  0  \n",
       "1             0              0              0                  0  \n",
       "2             0              0              0                  0  \n",
       "3             0              0              0                  0  \n",
       "4             0              0              0                  0  "
      ]
     },
     "execution_count": 27,
     "metadata": {},
     "output_type": "execute_result"
    }
   ],
   "source": [
    "fish_dummy.head()"
   ]
  },
  {
   "cell_type": "code",
   "execution_count": null,
   "id": "2506f3a8",
   "metadata": {},
   "outputs": [],
   "source": []
  },
  {
   "cell_type": "code",
   "execution_count": 28,
   "id": "29fdf2e1",
   "metadata": {},
   "outputs": [
    {
     "data": {
      "text/plain": [
       "0    242.0\n",
       "1    290.0\n",
       "2    340.0\n",
       "3    363.0\n",
       "4    430.0\n",
       "Name: Weight, dtype: float64"
      ]
     },
     "execution_count": 28,
     "metadata": {},
     "output_type": "execute_result"
    }
   ],
   "source": [
    "Y = fish['Weight']\n",
    "Y.head()"
   ]
  },
  {
   "cell_type": "code",
   "execution_count": 29,
   "id": "71f66ae3",
   "metadata": {},
   "outputs": [
    {
     "data": {
      "text/html": [
       "<div>\n",
       "<style scoped>\n",
       "    .dataframe tbody tr th:only-of-type {\n",
       "        vertical-align: middle;\n",
       "    }\n",
       "\n",
       "    .dataframe tbody tr th {\n",
       "        vertical-align: top;\n",
       "    }\n",
       "\n",
       "    .dataframe thead th {\n",
       "        text-align: right;\n",
       "    }\n",
       "</style>\n",
       "<table border=\"1\" class=\"dataframe\">\n",
       "  <thead>\n",
       "    <tr style=\"text-align: right;\">\n",
       "      <th></th>\n",
       "      <th>Length1</th>\n",
       "      <th>Height</th>\n",
       "      <th>Width</th>\n",
       "      <th>Species_Parkki</th>\n",
       "      <th>Species_Perch</th>\n",
       "      <th>Species_Pike</th>\n",
       "      <th>Species_Roach</th>\n",
       "      <th>Species_Smelt</th>\n",
       "      <th>Species_Whitefish</th>\n",
       "    </tr>\n",
       "  </thead>\n",
       "  <tbody>\n",
       "    <tr>\n",
       "      <th>0</th>\n",
       "      <td>23.2</td>\n",
       "      <td>11.5200</td>\n",
       "      <td>4.0200</td>\n",
       "      <td>0</td>\n",
       "      <td>0</td>\n",
       "      <td>0</td>\n",
       "      <td>0</td>\n",
       "      <td>0</td>\n",
       "      <td>0</td>\n",
       "    </tr>\n",
       "    <tr>\n",
       "      <th>1</th>\n",
       "      <td>24.0</td>\n",
       "      <td>12.4800</td>\n",
       "      <td>4.3056</td>\n",
       "      <td>0</td>\n",
       "      <td>0</td>\n",
       "      <td>0</td>\n",
       "      <td>0</td>\n",
       "      <td>0</td>\n",
       "      <td>0</td>\n",
       "    </tr>\n",
       "    <tr>\n",
       "      <th>2</th>\n",
       "      <td>23.9</td>\n",
       "      <td>12.3778</td>\n",
       "      <td>4.6961</td>\n",
       "      <td>0</td>\n",
       "      <td>0</td>\n",
       "      <td>0</td>\n",
       "      <td>0</td>\n",
       "      <td>0</td>\n",
       "      <td>0</td>\n",
       "    </tr>\n",
       "    <tr>\n",
       "      <th>3</th>\n",
       "      <td>26.3</td>\n",
       "      <td>12.7300</td>\n",
       "      <td>4.4555</td>\n",
       "      <td>0</td>\n",
       "      <td>0</td>\n",
       "      <td>0</td>\n",
       "      <td>0</td>\n",
       "      <td>0</td>\n",
       "      <td>0</td>\n",
       "    </tr>\n",
       "    <tr>\n",
       "      <th>4</th>\n",
       "      <td>26.5</td>\n",
       "      <td>12.4440</td>\n",
       "      <td>5.1340</td>\n",
       "      <td>0</td>\n",
       "      <td>0</td>\n",
       "      <td>0</td>\n",
       "      <td>0</td>\n",
       "      <td>0</td>\n",
       "      <td>0</td>\n",
       "    </tr>\n",
       "  </tbody>\n",
       "</table>\n",
       "</div>"
      ],
      "text/plain": [
       "   Length1   Height   Width  Species_Parkki  Species_Perch  Species_Pike  \\\n",
       "0     23.2  11.5200  4.0200               0              0             0   \n",
       "1     24.0  12.4800  4.3056               0              0             0   \n",
       "2     23.9  12.3778  4.6961               0              0             0   \n",
       "3     26.3  12.7300  4.4555               0              0             0   \n",
       "4     26.5  12.4440  5.1340               0              0             0   \n",
       "\n",
       "   Species_Roach  Species_Smelt  Species_Whitefish  \n",
       "0              0              0                  0  \n",
       "1              0              0                  0  \n",
       "2              0              0                  0  \n",
       "3              0              0                  0  \n",
       "4              0              0                  0  "
      ]
     },
     "execution_count": 29,
     "metadata": {},
     "output_type": "execute_result"
    }
   ],
   "source": [
    "X= fish_dummy.drop(columns='Weight')\n",
    "X.head()"
   ]
  },
  {
   "cell_type": "code",
   "execution_count": 30,
   "id": "fcb5a5a2",
   "metadata": {},
   "outputs": [
    {
     "name": "stderr",
     "output_type": "stream",
     "text": [
      "C:\\Users\\ambar\\anaconda3\\lib\\site-packages\\seaborn\\distributions.py:2619: FutureWarning: `distplot` is a deprecated function and will be removed in a future version. Please adapt your code to use either `displot` (a figure-level function with similar flexibility) or `histplot` (an axes-level function for histograms).\n",
      "  warnings.warn(msg, FutureWarning)\n"
     ]
    },
    {
     "data": {
      "text/plain": [
       "<AxesSubplot:xlabel='Weight', ylabel='Density'>"
      ]
     },
     "execution_count": 30,
     "metadata": {},
     "output_type": "execute_result"
    },
    {
     "data": {
      "image/png": "[encoded data removed]",
      "text/plain": [
       "<Figure size 432x288 with 1 Axes>"
      ]
     },
     "metadata": {
      "needs_background": "light"
     },
     "output_type": "display_data"
    }
   ],
   "source": [
    "sns.distplot(Y)"
   ]
  },
  {
   "cell_type": "code",
   "execution_count": 31,
   "id": "36e9455f",
   "metadata": {},
   "outputs": [
    {
     "data": {
      "text/plain": [
       "<AxesSubplot:ylabel='Density'>"
      ]
     },
     "execution_count": 31,
     "metadata": {},
     "output_type": "execute_result"
    },
    {
     "data": {
      "image/png": "[encoded data removed]",
      "text/plain": [
       "<Figure size 432x288 with 1 Axes>"
      ]
     },
     "metadata": {
      "needs_background": "light"
     },
     "output_type": "display_data"
    }
   ],
   "source": [
    "np.sqrt(fish['Weight']).plot(kind='density')"
   ]
  },
  {
   "cell_type": "code",
   "execution_count": 32,
   "id": "c074396e",
   "metadata": {},
   "outputs": [
    {
     "data": {
      "text/plain": [
       "<AxesSubplot:ylabel='Density'>"
      ]
     },
     "execution_count": 32,
     "metadata": {},
     "output_type": "execute_result"
    },
    {
     "data": {
      "image/png": "[encoded data removed]",
      "text/plain": [
       "<Figure size 432x288 with 1 Axes>"
      ]
     },
     "metadata": {
      "needs_background": "light"
     },
     "output_type": "display_data"
    }
   ],
   "source": [
    "np.cbrt(fish['Weight']).plot(kind='density')"
   ]
  },
  {
   "cell_type": "code",
   "execution_count": 33,
   "id": "ceaceb15",
   "metadata": {},
   "outputs": [
    {
     "data": {
      "text/plain": [
       "<AxesSubplot:ylabel='Density'>"
      ]
     },
     "execution_count": 33,
     "metadata": {},
     "output_type": "execute_result"
    },
    {
     "data": {
      "image/png": "[encoded data removed]",
      "text/plain": [
       "<Figure size 432x288 with 1 Axes>"
      ]
     },
     "metadata": {
      "needs_background": "light"
     },
     "output_type": "display_data"
    }
   ],
   "source": [
    "np.log(fish['Weight']).plot(kind='density')"
   ]
  },
  {
   "cell_type": "code",
   "execution_count": 34,
   "id": "039fdbf8",
   "metadata": {},
   "outputs": [
    {
     "data": {
      "text/plain": [
       "<AxesSubplot:ylabel='Density'>"
      ]
     },
     "execution_count": 34,
     "metadata": {},
     "output_type": "execute_result"
    },
    {
     "data": {
      "image/png": "[encoded data removed]",
      "text/plain": [
       "<Figure size 432x288 with 1 Axes>"
      ]
     },
     "metadata": {
      "needs_background": "light"
     },
     "output_type": "display_data"
    }
   ],
   "source": [
    "np.log10(fish['Weight']).plot(kind='density')"
   ]
  },
  {
   "cell_type": "code",
   "execution_count": 35,
   "id": "bca914ac",
   "metadata": {},
   "outputs": [
    {
     "data": {
      "text/plain": [
       "<AxesSubplot:ylabel='Density'>"
      ]
     },
     "execution_count": 35,
     "metadata": {},
     "output_type": "execute_result"
    },
    {
     "data": {
      "image/png": "[encoded data removed]",
      "text/plain": [
       "<Figure size 432x288 with 1 Axes>"
      ]
     },
     "metadata": {
      "needs_background": "light"
     },
     "output_type": "display_data"
    }
   ],
   "source": [
    "np.sqrt(fish['Weight']).plot(kind='density')"
   ]
  },
  {
   "cell_type": "code",
   "execution_count": 36,
   "id": "fa46ef39",
   "metadata": {},
   "outputs": [
    {
     "data": {
      "text/plain": [
       "ShapiroResult(statistic=0.9620815515518188, pvalue=0.00024237333855126053)"
      ]
     },
     "execution_count": 36,
     "metadata": {},
     "output_type": "execute_result"
    }
   ],
   "source": [
    "from scipy import stats\n",
    "stats.shapiro(np.sqrt(Y))  # BEST I CAN GET IS THIS"
   ]
  },
  {
   "cell_type": "code",
   "execution_count": 37,
   "id": "8a27896c",
   "metadata": {},
   "outputs": [
    {
     "data": {
      "text/plain": [
       "ShapiroResult(statistic=0.964476466178894, pvalue=0.0004178561212029308)"
      ]
     },
     "execution_count": 37,
     "metadata": {},
     "output_type": "execute_result"
    }
   ],
   "source": [
    "stats.shapiro(np.cbrt(Y))"
   ]
  },
  {
   "cell_type": "code",
   "execution_count": 38,
   "id": "a70d0636",
   "metadata": {},
   "outputs": [],
   "source": [
    "Y = np.cbrt(fish_num['Weight'])"
   ]
  },
  {
   "cell_type": "markdown",
   "id": "b17b7246",
   "metadata": {},
   "source": [
    "# y = (w1x1 + w2X2 ... +w0)**3"
   ]
  },
  {
   "cell_type": "code",
   "execution_count": 39,
   "id": "0b46017c",
   "metadata": {},
   "outputs": [],
   "source": [
    "from sklearn.linear_model import LinearRegression\n",
    "from sklearn.model_selection import train_test_split\n",
    "from sklearn import metrics\n",
    "from sklearn.preprocessing import StandardScaler\n",
    "\n",
    "scaler = StandardScaler()  \n",
    "\n",
    "x_train, x_test, y_train, y_test  = train_test_split(X,Y , test_size=0.25 , random_state=88)"
   ]
  },
  {
   "cell_type": "code",
   "execution_count": 40,
   "id": "df8e95a7",
   "metadata": {},
   "outputs": [
    {
     "name": "stdout",
     "output_type": "stream",
     "text": [
      "<class 'pandas.core.frame.DataFrame'>\n",
      "Int64Index: 40 entries, 2 to 158\n",
      "Data columns (total 9 columns):\n",
      " #   Column             Non-Null Count  Dtype  \n",
      "---  ------             --------------  -----  \n",
      " 0   Length1            40 non-null     float64\n",
      " 1   Height             40 non-null     float64\n",
      " 2   Width              40 non-null     float64\n",
      " 3   Species_Parkki     40 non-null     uint8  \n",
      " 4   Species_Perch      40 non-null     uint8  \n",
      " 5   Species_Pike       40 non-null     uint8  \n",
      " 6   Species_Roach      40 non-null     uint8  \n",
      " 7   Species_Smelt      40 non-null     uint8  \n",
      " 8   Species_Whitefish  40 non-null     uint8  \n",
      "dtypes: float64(3), uint8(6)\n",
      "memory usage: 1.5 KB\n"
     ]
    }
   ],
   "source": [
    "x_test.info()"
   ]
  },
  {
   "cell_type": "code",
   "execution_count": 41,
   "id": "276f3e4b",
   "metadata": {},
   "outputs": [
    {
     "data": {
      "text/plain": [
       "array([[-1.59674771e-01,  8.63817535e-01,  2.12751841e-01,\n",
       "        -2.86038777e-01, -7.79812867e-01, -3.02891266e-01,\n",
       "        -4.08248290e-01, -3.19142369e-01, -1.60816880e-01],\n",
       "       [ 6.46048950e-01,  1.61573153e+00,  5.61240248e-01,\n",
       "        -2.86038777e-01, -7.79812867e-01, -3.02891266e-01,\n",
       "        -4.08248290e-01, -3.19142369e-01, -1.60816880e-01],\n",
       "       [-5.20130119e-01, -4.13974811e-01, -3.09861424e-01,\n",
       "        -2.86038777e-01, -7.79812867e-01, -3.02891266e-01,\n",
       "         2.44948974e+00, -3.19142369e-01, -1.60816880e-01],\n",
       "       [ 4.34016392e-01,  1.23084452e+00,  4.37538798e-01,\n",
       "        -2.86038777e-01, -7.79812867e-01, -3.02891266e-01,\n",
       "        -4.08248290e-01, -3.19142369e-01, -1.60816880e-01],\n",
       "       [-8.38178957e-01, -8.90993826e-02, -8.48228274e-01,\n",
       "         3.49602949e+00, -7.79812867e-01, -3.02891266e-01,\n",
       "        -4.08248290e-01, -3.19142369e-01, -1.60816880e-01],\n",
       "       [ 4.23414764e-01,  1.47985671e+00,  4.96018017e-01,\n",
       "        -2.86038777e-01, -7.79812867e-01, -3.02891266e-01,\n",
       "        -4.08248290e-01, -3.19142369e-01, -1.60816880e-01],\n",
       "       [-4.98926864e-01, -6.72239779e-01, -4.23418519e-01,\n",
       "        -2.86038777e-01,  1.28235894e+00, -3.02891266e-01,\n",
       "        -4.08248290e-01, -3.19142369e-01, -1.60816880e-01],\n",
       "       [ 1.54718732e+00, -4.63801157e-01,  7.12679352e-02,\n",
       "        -2.86038777e-01, -7.79812867e-01,  3.30151480e+00,\n",
       "        -4.08248290e-01, -3.19142369e-01, -1.60816880e-01],\n",
       "       [-1.66446984e+00, -1.59063211e+00, -1.74934530e+00,\n",
       "        -2.86038777e-01,  1.28235894e+00, -3.02891266e-01,\n",
       "        -4.08248290e-01, -3.19142369e-01, -1.60816880e-01],\n",
       "       [ 9.64097788e-01,  4.94949555e-01,  1.14871771e+00,\n",
       "        -2.86038777e-01,  1.28235894e+00, -3.02891266e-01,\n",
       "        -4.08248290e-01, -3.19142369e-01, -1.60816880e-01],\n",
       "       [-5.20130119e-01, -6.95479322e-01, -4.26998880e-01,\n",
       "        -2.86038777e-01,  1.28235894e+00, -3.02891266e-01,\n",
       "        -4.08248290e-01, -3.19142369e-01, -1.60816880e-01],\n",
       "       [ 6.88455462e-01,  1.78735030e+00,  7.45569133e-01,\n",
       "        -2.86038777e-01, -7.79812867e-01, -3.02891266e-01,\n",
       "        -4.08248290e-01, -3.19142369e-01, -1.60816880e-01],\n",
       "       [ 1.27154500e+00,  2.35994683e+00,  1.43675770e+00,\n",
       "        -2.86038777e-01, -7.79812867e-01, -3.02891266e-01,\n",
       "        -4.08248290e-01, -3.19142369e-01, -1.60816880e-01],\n",
       "       [ 2.75662103e+00,  1.99673463e-01,  1.07675247e+00,\n",
       "        -2.86038777e-01, -7.79812867e-01,  3.30151480e+00,\n",
       "        -4.08248290e-01, -3.19142369e-01, -1.60816880e-01],\n",
       "       [ 5.93040811e-01,  1.36495008e+00,  8.28275457e-01,\n",
       "        -2.86038777e-01, -7.79812867e-01, -3.02891266e-01,\n",
       "        -4.08248290e-01, -3.19142369e-01, -1.60816880e-01],\n",
       "       [ 1.01710593e+00,  2.21685149e+00,  1.17360121e+00,\n",
       "        -2.86038777e-01, -7.79812867e-01, -3.02891266e-01,\n",
       "        -4.08248290e-01, -3.19142369e-01, -1.60816880e-01],\n",
       "       [ 1.12312221e+00, -5.66370747e-01, -2.16354346e-01,\n",
       "        -2.86038777e-01, -7.79812867e-01,  3.30151480e+00,\n",
       "        -4.08248290e-01, -3.19142369e-01, -1.60816880e-01],\n",
       "       [-6.36748026e-01, -6.33650660e-01, -6.23739680e-01,\n",
       "        -2.86038777e-01, -7.79812867e-01, -3.02891266e-01,\n",
       "         2.44948974e+00, -3.19142369e-01, -1.60816880e-01],\n",
       "       [-2.97495933e-01, -4.85701797e-01, -1.03692340e-01,\n",
       "        -2.86038777e-01,  1.28235894e+00, -3.02891266e-01,\n",
       "        -4.08248290e-01, -3.19142369e-01, -1.60816880e-01],\n",
       "       [ 9.11089648e-01,  4.40939135e-01,  1.43287897e+00,\n",
       "        -2.86038777e-01,  1.28235894e+00, -3.02891266e-01,\n",
       "        -4.08248290e-01, -3.19142369e-01, -1.60816880e-01],\n",
       "       [-1.63330105e+00, -1.62410470e+00, -1.89733353e+00,\n",
       "        -2.86038777e-01, -7.79812867e-01, -3.02891266e-01,\n",
       "        -4.08248290e-01,  3.13339781e+00, -1.60816880e-01],\n",
       "       [ 1.26094337e+00,  8.58127195e-01,  1.30410535e+00,\n",
       "        -2.86038777e-01, -7.79812867e-01, -3.02891266e-01,\n",
       "        -4.08248290e-01, -3.19142369e-01,  6.21825270e+00],\n",
       "       [ 4.23414764e-01,  1.59548061e+00,  7.40198593e-01,\n",
       "        -2.86038777e-01, -7.79812867e-01, -3.02891266e-01,\n",
       "        -4.08248290e-01, -3.19142369e-01, -1.60816880e-01],\n",
       "       [-7.21561050e-01, -6.09406939e-01, -4.56715870e-01,\n",
       "        -2.86038777e-01, -7.79812867e-01, -3.02891266e-01,\n",
       "         2.44948974e+00, -3.19142369e-01, -1.60816880e-01],\n",
       "       [-1.41066686e+00, -1.55118227e+00, -1.84016711e+00,\n",
       "        -2.86038777e-01, -7.79812867e-01, -3.02891266e-01,\n",
       "        -4.08248290e-01,  3.13339781e+00, -1.60816880e-01],\n",
       "       [ 1.56839058e+00,  9.17899683e-01,  1.99318031e+00,\n",
       "        -2.86038777e-01,  1.28235894e+00, -3.02891266e-01,\n",
       "        -4.08248290e-01, -3.19142369e-01, -1.60816880e-01],\n",
       "       [ 1.54718732e+00, -3.55015229e-01, -1.01852627e-02,\n",
       "        -2.86038777e-01, -7.79812867e-01,  3.30151480e+00,\n",
       "        -4.08248290e-01, -3.19142369e-01, -1.60816880e-01],\n",
       "       [-1.23043919e+00, -1.18131011e+00, -1.13829713e+00,\n",
       "        -2.86038777e-01,  1.28235894e+00, -3.02891266e-01,\n",
       "        -4.08248290e-01, -3.19142369e-01, -1.60816880e-01],\n",
       "       [ 2.05529038e-02,  3.14152144e-03,  2.04099304e-01,\n",
       "        -2.86038777e-01, -7.79812867e-01, -3.02891266e-01,\n",
       "        -4.08248290e-01, -3.19142369e-01,  6.21825270e+00],\n",
       "       [ 1.23974011e+00,  5.66676541e-01,  1.36676165e+00,\n",
       "        -2.86038777e-01,  1.28235894e+00, -3.02891266e-01,\n",
       "        -4.08248290e-01, -3.19142369e-01, -1.60816880e-01],\n",
       "       [ 1.58374067e-01, -2.82044975e-01,  1.76530529e-01,\n",
       "        -2.86038777e-01,  1.28235894e+00, -3.02891266e-01,\n",
       "        -4.08248290e-01, -3.19142369e-01, -1.60816880e-01],\n",
       "       [-4.45918724e-01,  3.77986750e-01, -4.03368501e-01,\n",
       "         3.49602949e+00, -7.79812867e-01, -3.02891266e-01,\n",
       "        -4.08248290e-01, -3.19142369e-01, -1.60816880e-01],\n",
       "       [ 5.29431043e-01,  1.47593563e+00,  5.11950621e-01,\n",
       "        -2.86038777e-01, -7.79812867e-01, -3.02891266e-01,\n",
       "        -4.08248290e-01, -3.19142369e-01, -1.60816880e-01],\n",
       "       [ 4.87024532e-01, -7.64337229e-01, -5.75225798e-01,\n",
       "        -2.86038777e-01, -7.79812867e-01,  3.30151480e+00,\n",
       "        -4.08248290e-01, -3.19142369e-01, -1.60816880e-01],\n",
       "       [-1.91479654e-01, -9.19206440e-02, -5.48800943e-02,\n",
       "        -2.86038777e-01, -7.79812867e-01, -3.02891266e-01,\n",
       "        -4.08248290e-01, -3.19142369e-01,  6.21825270e+00],\n",
       "       [ 6.24845695e-01,  1.52148227e+00,  7.33932962e-01,\n",
       "        -2.86038777e-01, -7.79812867e-01, -3.02891266e-01,\n",
       "        -4.08248290e-01, -3.19142369e-01, -1.60816880e-01],\n",
       "       [ 1.17613035e+00,  5.67059085e-01,  1.88197551e+00,\n",
       "        -2.86038777e-01,  1.28235894e+00, -3.02891266e-01,\n",
       "        -4.08248290e-01, -3.19142369e-01, -1.60816880e-01],\n",
       "       [ 7.73268485e-01, -6.76256490e-01,  2.67521215e-02,\n",
       "        -2.86038777e-01, -7.79812867e-01,  3.30151480e+00,\n",
       "        -4.08248290e-01, -3.19142369e-01, -1.60816880e-01],\n",
       "       [ 2.42712244e+00,  3.85746525e-02,  1.09298343e+00,\n",
       "        -2.86038777e-01, -7.79812867e-01,  3.30151480e+00,\n",
       "        -4.08248290e-01, -3.19142369e-01, -1.60816880e-01],\n",
       "       [-1.23043919e+00, -1.39453053e+00, -1.46816767e+00,\n",
       "        -2.86038777e-01, -7.79812867e-01, -3.02891266e-01,\n",
       "        -4.08248290e-01,  3.13339781e+00, -1.60816880e-01]])"
      ]
     },
     "execution_count": 41,
     "metadata": {},
     "output_type": "execute_result"
    }
   ],
   "source": [
    "# First we preprocess Weights to compareable measure\n",
    "\n",
    "\n",
    "scaler = scaler.fit(x_train)\n",
    "\n",
    "scaler.transform(x_train)\n",
    "scaler.transform(x_test)"
   ]
  },
  {
   "cell_type": "code",
   "execution_count": 42,
   "id": "043b1ceb",
   "metadata": {},
   "outputs": [],
   "source": [
    "x_train_scaled = scaler.transform(x_train)"
   ]
  },
  {
   "cell_type": "code",
   "execution_count": 43,
   "id": "aeeec84a",
   "metadata": {},
   "outputs": [],
   "source": [
    "x_test_scalled =  scaler.transform(x_test)"
   ]
  },
  {
   "cell_type": "code",
   "execution_count": 44,
   "id": "12c9242e",
   "metadata": {},
   "outputs": [],
   "source": [
    "lr = LinearRegression()"
   ]
  },
  {
   "cell_type": "code",
   "execution_count": 45,
   "id": "60030f8f",
   "metadata": {},
   "outputs": [
    {
     "data": {
      "text/plain": [
       "LinearRegression()"
      ]
     },
     "execution_count": 45,
     "metadata": {},
     "output_type": "execute_result"
    }
   ],
   "source": [
    "lr.fit( x_train_scaled, y_train)"
   ]
  },
  {
   "cell_type": "code",
   "execution_count": 46,
   "id": "8f2e58fd",
   "metadata": {},
   "outputs": [
    {
     "data": {
      "text/plain": [
       "array([ 328.76035602,  630.38290681,  138.00260105,  512.44708309,\n",
       "        114.92340831,  546.42274958,  140.32180797,  470.39505259,\n",
       "         12.62554465,  668.39680965,  136.92090989,  693.43468173,\n",
       "       1115.61082036, 1103.84954643,  622.58581468,  940.26922833,\n",
       "        343.08169802,  102.78471405,  192.00002511,  689.76924164,\n",
       "          7.31243359,  905.35003054,  594.12284079,  104.17228806,\n",
       "         12.12489495, 1093.8800349 ,  472.19912818,   43.41294533,\n",
       "        328.76687726,  797.0834939 ,  292.71584694,  207.42359408,\n",
       "        574.83795238,  201.02501432,  263.47015357,  637.76692163,\n",
       "        867.52393113,  296.14413846,  953.71673501,   23.41560873])"
      ]
     },
     "execution_count": 46,
     "metadata": {},
     "output_type": "execute_result"
    }
   ],
   "source": [
    "test_predY = (lr.predict(x_test_scalled))**3\n",
    "test_predY"
   ]
  },
  {
   "cell_type": "code",
   "execution_count": 47,
   "id": "330c787c",
   "metadata": {},
   "outputs": [],
   "source": [
    "actY = y_test"
   ]
  },
  {
   "cell_type": "code",
   "execution_count": 48,
   "id": "e4375485",
   "metadata": {},
   "outputs": [
    {
     "data": {
      "text/plain": [
       "2       321.780824\n",
       "22      621.855888\n",
       "45      132.573766\n",
       "13      505.467551\n",
       "64      109.990984\n",
       "14      537.988423\n",
       "93      135.068220\n",
       "135     462.405483\n",
       "72       10.772397\n",
       "114     659.517770\n",
       "91      131.855113\n",
       "24      684.555642\n",
       "33     1105.694858\n",
       "142    1093.146761\n",
       "19      613.923424\n",
       "30      930.543340\n",
       "133     336.068119\n",
       "42       97.852290\n",
       "98      186.271371\n",
       "113     680.890202\n",
       "146       5.355000\n",
       "60      895.350031\n",
       "15      585.688514\n",
       "39       99.239864\n",
       "156       9.822817\n",
       "126    1083.880035\n",
       "134     464.502126\n",
       "74       39.992993\n",
       "57      322.028213\n",
       "122     787.723592\n",
       "107     286.021517\n",
       "69      201.575559\n",
       "17      565.958912\n",
       "128     195.176979\n",
       "55      257.006849\n",
       "20      629.451404\n",
       "116     857.869037\n",
       "130     289.449809\n",
       "140     943.886259\n",
       "158      20.705723\n",
       "Name: Weight, dtype: float64"
      ]
     },
     "execution_count": 48,
     "metadata": {},
     "output_type": "execute_result"
    }
   ],
   "source": [
    "err = test_predY-y_test\n",
    "err"
   ]
  },
  {
   "cell_type": "code",
   "execution_count": 49,
   "id": "153b85b9",
   "metadata": {},
   "outputs": [
    {
     "data": {
      "text/plain": [
       "array([ 1.23575103,  0.59096374,  0.66736254,  0.01844623,  0.02242867,\n",
       "       -0.09845243, -0.06464663, -0.07567828,  0.04573266])"
      ]
     },
     "execution_count": 49,
     "metadata": {},
     "output_type": "execute_result"
    }
   ],
   "source": [
    "lr.coef_"
   ]
  },
  {
   "cell_type": "code",
   "execution_count": 50,
   "id": "034714ce",
   "metadata": {},
   "outputs": [
    {
     "data": {
      "text/plain": [
       "6.396366879420544"
      ]
     },
     "execution_count": 50,
     "metadata": {},
     "output_type": "execute_result"
    }
   ],
   "source": [
    "lr.intercept_"
   ]
  },
  {
   "cell_type": "code",
   "execution_count": 51,
   "id": "3a1d5710",
   "metadata": {},
   "outputs": [
    {
     "data": {
      "text/plain": [
       "0.9816908749266786"
      ]
     },
     "execution_count": 51,
     "metadata": {},
     "output_type": "execute_result"
    }
   ],
   "source": [
    "lr.score(x_train_scaled,y_train)"
   ]
  },
  {
   "cell_type": "code",
   "execution_count": 52,
   "id": "120955a0",
   "metadata": {},
   "outputs": [
    {
     "data": {
      "text/plain": [
       "0.9881918948370566"
      ]
     },
     "execution_count": 52,
     "metadata": {},
     "output_type": "execute_result"
    }
   ],
   "source": [
    "lr.score(x_test_scalled,y_test)"
   ]
  },
  {
   "cell_type": "code",
   "execution_count": 53,
   "id": "c11368ed",
   "metadata": {},
   "outputs": [],
   "source": [
    "#What is the mean score of the model at 95% confidence interval?"
   ]
  },
  {
   "cell_type": "code",
   "execution_count": 54,
   "id": "30ba5029",
   "metadata": {},
   "outputs": [],
   "source": [
    "# Compare real and predicted weights and give a conclusion statement based on it?"
   ]
  },
  {
   "cell_type": "code",
   "execution_count": 55,
   "id": "55ed61b1",
   "metadata": {},
   "outputs": [],
   "source": [
    "def evaluate_reg(x,y,model):\n",
    "    x1= x.copy()\n",
    "    y1= y.copy()\n",
    "    \n",
    "    predY= model.predict(x1)\n",
    "    mse= np.mean((predY- y1)**2)\n",
    "    rmse= np.sqrt(np.mean((predY- y1)**2))\n",
    "    print(f\"MSE {mse}, RMSE {rmse}\")\n",
    "    \n",
    "    print('Mean Absolute error = ' , np.mean(abs(y1)))"
   ]
  },
  {
   "cell_type": "code",
   "execution_count": 56,
   "id": "f0c3d9bb",
   "metadata": {},
   "outputs": [
    {
     "name": "stdout",
     "output_type": "stream",
     "text": [
      "MSE 0.10338694060962082, RMSE 0.32153839678896956\n",
      "Mean Absolute error =  6.396366879420544\n"
     ]
    }
   ],
   "source": [
    "evaluate_reg(x_train_scaled,y_train,lr)"
   ]
  },
  {
   "cell_type": "code",
   "execution_count": 57,
   "id": "8724e491",
   "metadata": {},
   "outputs": [
    {
     "name": "stdout",
     "output_type": "stream",
     "text": [
      "MSE 0.06698242485900827, RMSE 0.25880963053759853\n",
      "Mean Absolute error =  7.013555139132682\n"
     ]
    }
   ],
   "source": [
    "evaluate_reg(x_test_scalled,y_test,lr)"
   ]
  },
  {
   "cell_type": "markdown",
   "id": "83b97310",
   "metadata": {},
   "source": [
    "# i think it pretty good model FOR a rookie :)"
   ]
  },
  {
   "cell_type": "code",
   "execution_count": null,
   "id": "6de8de36",
   "metadata": {},
   "outputs": [],
   "source": []
  },
  {
   "cell_type": "code",
   "execution_count": null,
   "id": "866c23ae",
   "metadata": {},
   "outputs": [],
   "source": []
  },
  {
   "cell_type": "code",
   "execution_count": null,
   "id": "04b1cf51",
   "metadata": {},
   "outputs": [],
   "source": []
  }
 ],
 "metadata": {
  "kernelspec": {
   "display_name": "Python 3 (ipykernel)",
   "language": "python",
   "name": "python3"
  },
  "language_info": {
   "codemirror_mode": {
    "name": "ipython",
    "version": 3
   },
   "file_extension": ".py",
   "mimetype": "text/x-python",
   "name": "python",
   "nbconvert_exporter": "python",
   "pygments_lexer": "ipython3",
   "version": "3.9.7"
  }
 },
 "nbformat": 4,
 "nbformat_minor": 5
}
